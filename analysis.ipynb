{
 "cells": [
  {
   "cell_type": "markdown",
   "metadata": {},
   "source": [
    "# Explorativ Data Analyse"
   ]
  },
  {
   "cell_type": "code",
   "execution_count": 1,
   "metadata": {},
   "outputs": [],
   "source": [
    "import numpy as np\n",
    "import pandas as pd\n",
    "import matplotlib as mpl\n",
    "import matplotlib.pyplot as plt\n",
    "\n",
    "import seaborn as sns\n",
    "from IPython.display import display\n",
    "\n",
    "sns.set()"
   ]
  },
  {
   "cell_type": "code",
   "execution_count": 2,
   "metadata": {},
   "outputs": [],
   "source": [
    "df_data = pd.read_csv('data/ecommerce-data.zip', encoding='ISO-8859-1')"
   ]
  },
  {
   "cell_type": "code",
   "execution_count": 3,
   "metadata": {},
   "outputs": [
    {
     "data": {
      "text/html": [
       "<div>\n",
       "<style scoped>\n",
       "    .dataframe tbody tr th:only-of-type {\n",
       "        vertical-align: middle;\n",
       "    }\n",
       "\n",
       "    .dataframe tbody tr th {\n",
       "        vertical-align: top;\n",
       "    }\n",
       "\n",
       "    .dataframe thead th {\n",
       "        text-align: right;\n",
       "    }\n",
       "</style>\n",
       "<table border=\"1\" class=\"dataframe\">\n",
       "  <thead>\n",
       "    <tr style=\"text-align: right;\">\n",
       "      <th></th>\n",
       "      <th>InvoiceNo</th>\n",
       "      <th>StockCode</th>\n",
       "      <th>Description</th>\n",
       "      <th>Quantity</th>\n",
       "      <th>InvoiceDate</th>\n",
       "      <th>UnitPrice</th>\n",
       "      <th>CustomerID</th>\n",
       "      <th>Country</th>\n",
       "    </tr>\n",
       "  </thead>\n",
       "  <tbody>\n",
       "    <tr>\n",
       "      <th>0</th>\n",
       "      <td>536365</td>\n",
       "      <td>85123A</td>\n",
       "      <td>WHITE HANGING HEART T-LIGHT HOLDER</td>\n",
       "      <td>6</td>\n",
       "      <td>12/1/2010 8:26</td>\n",
       "      <td>2.55</td>\n",
       "      <td>17850.0</td>\n",
       "      <td>United Kingdom</td>\n",
       "    </tr>\n",
       "    <tr>\n",
       "      <th>1</th>\n",
       "      <td>536365</td>\n",
       "      <td>71053</td>\n",
       "      <td>WHITE METAL LANTERN</td>\n",
       "      <td>6</td>\n",
       "      <td>12/1/2010 8:26</td>\n",
       "      <td>3.39</td>\n",
       "      <td>17850.0</td>\n",
       "      <td>United Kingdom</td>\n",
       "    </tr>\n",
       "    <tr>\n",
       "      <th>2</th>\n",
       "      <td>536365</td>\n",
       "      <td>84406B</td>\n",
       "      <td>CREAM CUPID HEARTS COAT HANGER</td>\n",
       "      <td>8</td>\n",
       "      <td>12/1/2010 8:26</td>\n",
       "      <td>2.75</td>\n",
       "      <td>17850.0</td>\n",
       "      <td>United Kingdom</td>\n",
       "    </tr>\n",
       "    <tr>\n",
       "      <th>3</th>\n",
       "      <td>536365</td>\n",
       "      <td>84029G</td>\n",
       "      <td>KNITTED UNION FLAG HOT WATER BOTTLE</td>\n",
       "      <td>6</td>\n",
       "      <td>12/1/2010 8:26</td>\n",
       "      <td>3.39</td>\n",
       "      <td>17850.0</td>\n",
       "      <td>United Kingdom</td>\n",
       "    </tr>\n",
       "    <tr>\n",
       "      <th>4</th>\n",
       "      <td>536365</td>\n",
       "      <td>84029E</td>\n",
       "      <td>RED WOOLLY HOTTIE WHITE HEART.</td>\n",
       "      <td>6</td>\n",
       "      <td>12/1/2010 8:26</td>\n",
       "      <td>3.39</td>\n",
       "      <td>17850.0</td>\n",
       "      <td>United Kingdom</td>\n",
       "    </tr>\n",
       "  </tbody>\n",
       "</table>\n",
       "</div>"
      ],
      "text/plain": [
       "  InvoiceNo StockCode                          Description  Quantity  \\\n",
       "0    536365    85123A   WHITE HANGING HEART T-LIGHT HOLDER         6   \n",
       "1    536365     71053                  WHITE METAL LANTERN         6   \n",
       "2    536365    84406B       CREAM CUPID HEARTS COAT HANGER         8   \n",
       "3    536365    84029G  KNITTED UNION FLAG HOT WATER BOTTLE         6   \n",
       "4    536365    84029E       RED WOOLLY HOTTIE WHITE HEART.         6   \n",
       "\n",
       "      InvoiceDate  UnitPrice  CustomerID         Country  \n",
       "0  12/1/2010 8:26       2.55     17850.0  United Kingdom  \n",
       "1  12/1/2010 8:26       3.39     17850.0  United Kingdom  \n",
       "2  12/1/2010 8:26       2.75     17850.0  United Kingdom  \n",
       "3  12/1/2010 8:26       3.39     17850.0  United Kingdom  \n",
       "4  12/1/2010 8:26       3.39     17850.0  United Kingdom  "
      ]
     },
     "execution_count": 3,
     "metadata": {},
     "output_type": "execute_result"
    }
   ],
   "source": [
    "df_data.head()"
   ]
  },
  {
   "cell_type": "markdown",
   "metadata": {},
   "source": [
    "Lad os først forstå dataset."
   ]
  },
  {
   "cell_type": "markdown",
   "metadata": {},
   "source": [
    "Hvor mange rækker er der?"
   ]
  },
  {
   "cell_type": "code",
   "execution_count": 4,
   "metadata": {},
   "outputs": [
    {
     "name": "stdout",
     "output_type": "stream",
     "text": [
      "Antal transaktioner: 541909\n"
     ]
    }
   ],
   "source": [
    "print(f'Antal transaktioner: {len(df_data)}')"
   ]
  },
  {
   "cell_type": "markdown",
   "metadata": {},
   "source": [
    "Har vi dubletter?"
   ]
  },
  {
   "cell_type": "code",
   "execution_count": 5,
   "metadata": {},
   "outputs": [
    {
     "name": "stdout",
     "output_type": "stream",
     "text": [
      "Antallet af dubletter: 5268\n"
     ]
    }
   ],
   "source": [
    "n_duplicates = len(df_data[df_data.duplicated()])\n",
    "print(f'Antallet af dubletter: {n_duplicates}')"
   ]
  },
  {
   "cell_type": "markdown",
   "metadata": {},
   "source": [
    "Der er nogle enkelte dubletter. Disse vil ødelægge vores statistikker, så vi sletter dem."
   ]
  },
  {
   "cell_type": "code",
   "execution_count": 6,
   "metadata": {},
   "outputs": [
    {
     "data": {
      "text/html": [
       "<div>\n",
       "<style scoped>\n",
       "    .dataframe tbody tr th:only-of-type {\n",
       "        vertical-align: middle;\n",
       "    }\n",
       "\n",
       "    .dataframe tbody tr th {\n",
       "        vertical-align: top;\n",
       "    }\n",
       "\n",
       "    .dataframe thead th {\n",
       "        text-align: right;\n",
       "    }\n",
       "</style>\n",
       "<table border=\"1\" class=\"dataframe\">\n",
       "  <thead>\n",
       "    <tr style=\"text-align: right;\">\n",
       "      <th></th>\n",
       "      <th>InvoiceNo</th>\n",
       "      <th>StockCode</th>\n",
       "      <th>Description</th>\n",
       "      <th>Quantity</th>\n",
       "      <th>InvoiceDate</th>\n",
       "      <th>UnitPrice</th>\n",
       "      <th>CustomerID</th>\n",
       "      <th>Country</th>\n",
       "    </tr>\n",
       "  </thead>\n",
       "  <tbody>\n",
       "    <tr>\n",
       "      <th>517</th>\n",
       "      <td>536409</td>\n",
       "      <td>21866</td>\n",
       "      <td>UNION JACK FLAG LUGGAGE TAG</td>\n",
       "      <td>1</td>\n",
       "      <td>12/1/2010 11:45</td>\n",
       "      <td>1.25</td>\n",
       "      <td>17908.0</td>\n",
       "      <td>United Kingdom</td>\n",
       "    </tr>\n",
       "    <tr>\n",
       "      <th>527</th>\n",
       "      <td>536409</td>\n",
       "      <td>22866</td>\n",
       "      <td>HAND WARMER SCOTTY DOG DESIGN</td>\n",
       "      <td>1</td>\n",
       "      <td>12/1/2010 11:45</td>\n",
       "      <td>2.10</td>\n",
       "      <td>17908.0</td>\n",
       "      <td>United Kingdom</td>\n",
       "    </tr>\n",
       "    <tr>\n",
       "      <th>537</th>\n",
       "      <td>536409</td>\n",
       "      <td>22900</td>\n",
       "      <td>SET 2 TEA TOWELS I LOVE LONDON</td>\n",
       "      <td>1</td>\n",
       "      <td>12/1/2010 11:45</td>\n",
       "      <td>2.95</td>\n",
       "      <td>17908.0</td>\n",
       "      <td>United Kingdom</td>\n",
       "    </tr>\n",
       "    <tr>\n",
       "      <th>539</th>\n",
       "      <td>536409</td>\n",
       "      <td>22111</td>\n",
       "      <td>SCOTTIE DOG HOT WATER BOTTLE</td>\n",
       "      <td>1</td>\n",
       "      <td>12/1/2010 11:45</td>\n",
       "      <td>4.95</td>\n",
       "      <td>17908.0</td>\n",
       "      <td>United Kingdom</td>\n",
       "    </tr>\n",
       "    <tr>\n",
       "      <th>555</th>\n",
       "      <td>536412</td>\n",
       "      <td>22327</td>\n",
       "      <td>ROUND SNACK BOXES SET OF 4 SKULLS</td>\n",
       "      <td>1</td>\n",
       "      <td>12/1/2010 11:49</td>\n",
       "      <td>2.95</td>\n",
       "      <td>17920.0</td>\n",
       "      <td>United Kingdom</td>\n",
       "    </tr>\n",
       "    <tr>\n",
       "      <th>...</th>\n",
       "      <td>...</td>\n",
       "      <td>...</td>\n",
       "      <td>...</td>\n",
       "      <td>...</td>\n",
       "      <td>...</td>\n",
       "      <td>...</td>\n",
       "      <td>...</td>\n",
       "      <td>...</td>\n",
       "    </tr>\n",
       "    <tr>\n",
       "      <th>541675</th>\n",
       "      <td>581538</td>\n",
       "      <td>22068</td>\n",
       "      <td>BLACK PIRATE TREASURE CHEST</td>\n",
       "      <td>1</td>\n",
       "      <td>12/9/2011 11:34</td>\n",
       "      <td>0.39</td>\n",
       "      <td>14446.0</td>\n",
       "      <td>United Kingdom</td>\n",
       "    </tr>\n",
       "    <tr>\n",
       "      <th>541689</th>\n",
       "      <td>581538</td>\n",
       "      <td>23318</td>\n",
       "      <td>BOX OF 6 MINI VINTAGE CRACKERS</td>\n",
       "      <td>1</td>\n",
       "      <td>12/9/2011 11:34</td>\n",
       "      <td>2.49</td>\n",
       "      <td>14446.0</td>\n",
       "      <td>United Kingdom</td>\n",
       "    </tr>\n",
       "    <tr>\n",
       "      <th>541692</th>\n",
       "      <td>581538</td>\n",
       "      <td>22992</td>\n",
       "      <td>REVOLVER WOODEN RULER</td>\n",
       "      <td>1</td>\n",
       "      <td>12/9/2011 11:34</td>\n",
       "      <td>1.95</td>\n",
       "      <td>14446.0</td>\n",
       "      <td>United Kingdom</td>\n",
       "    </tr>\n",
       "    <tr>\n",
       "      <th>541699</th>\n",
       "      <td>581538</td>\n",
       "      <td>22694</td>\n",
       "      <td>WICKER STAR</td>\n",
       "      <td>1</td>\n",
       "      <td>12/9/2011 11:34</td>\n",
       "      <td>2.10</td>\n",
       "      <td>14446.0</td>\n",
       "      <td>United Kingdom</td>\n",
       "    </tr>\n",
       "    <tr>\n",
       "      <th>541701</th>\n",
       "      <td>581538</td>\n",
       "      <td>23343</td>\n",
       "      <td>JUMBO BAG VINTAGE CHRISTMAS</td>\n",
       "      <td>1</td>\n",
       "      <td>12/9/2011 11:34</td>\n",
       "      <td>2.08</td>\n",
       "      <td>14446.0</td>\n",
       "      <td>United Kingdom</td>\n",
       "    </tr>\n",
       "  </tbody>\n",
       "</table>\n",
       "<p>5268 rows × 8 columns</p>\n",
       "</div>"
      ],
      "text/plain": [
       "       InvoiceNo StockCode                        Description  Quantity  \\\n",
       "517       536409     21866        UNION JACK FLAG LUGGAGE TAG         1   \n",
       "527       536409     22866      HAND WARMER SCOTTY DOG DESIGN         1   \n",
       "537       536409     22900    SET 2 TEA TOWELS I LOVE LONDON          1   \n",
       "539       536409     22111       SCOTTIE DOG HOT WATER BOTTLE         1   \n",
       "555       536412     22327  ROUND SNACK BOXES SET OF 4 SKULLS         1   \n",
       "...          ...       ...                                ...       ...   \n",
       "541675    581538     22068        BLACK PIRATE TREASURE CHEST         1   \n",
       "541689    581538     23318     BOX OF 6 MINI VINTAGE CRACKERS         1   \n",
       "541692    581538     22992             REVOLVER WOODEN RULER          1   \n",
       "541699    581538     22694                       WICKER STAR          1   \n",
       "541701    581538     23343       JUMBO BAG VINTAGE CHRISTMAS          1   \n",
       "\n",
       "            InvoiceDate  UnitPrice  CustomerID         Country  \n",
       "517     12/1/2010 11:45       1.25     17908.0  United Kingdom  \n",
       "527     12/1/2010 11:45       2.10     17908.0  United Kingdom  \n",
       "537     12/1/2010 11:45       2.95     17908.0  United Kingdom  \n",
       "539     12/1/2010 11:45       4.95     17908.0  United Kingdom  \n",
       "555     12/1/2010 11:49       2.95     17920.0  United Kingdom  \n",
       "...                 ...        ...         ...             ...  \n",
       "541675  12/9/2011 11:34       0.39     14446.0  United Kingdom  \n",
       "541689  12/9/2011 11:34       2.49     14446.0  United Kingdom  \n",
       "541692  12/9/2011 11:34       1.95     14446.0  United Kingdom  \n",
       "541699  12/9/2011 11:34       2.10     14446.0  United Kingdom  \n",
       "541701  12/9/2011 11:34       2.08     14446.0  United Kingdom  \n",
       "\n",
       "[5268 rows x 8 columns]"
      ]
     },
     "execution_count": 6,
     "metadata": {},
     "output_type": "execute_result"
    }
   ],
   "source": [
    "df_data[df_data.duplicated()]"
   ]
  },
  {
   "cell_type": "code",
   "execution_count": 7,
   "metadata": {},
   "outputs": [
    {
     "name": "stdout",
     "output_type": "stream",
     "text": [
      "Slettet 5268 dubletter.\n"
     ]
    }
   ],
   "source": [
    "n_before = len(df_data)\n",
    "df_data.drop_duplicates(inplace=True)\n",
    "n_after = len(df_data)\n",
    "print(f'Slettet {n_before - n_after} dubletter.')"
   ]
  },
  {
   "cell_type": "markdown",
   "metadata": {},
   "source": [
    "Hvor mange værdier manger vi?"
   ]
  },
  {
   "cell_type": "code",
   "execution_count": 8,
   "metadata": {},
   "outputs": [
    {
     "data": {
      "text/html": [
       "<div>\n",
       "<style scoped>\n",
       "    .dataframe tbody tr th:only-of-type {\n",
       "        vertical-align: middle;\n",
       "    }\n",
       "\n",
       "    .dataframe tbody tr th {\n",
       "        vertical-align: top;\n",
       "    }\n",
       "\n",
       "    .dataframe thead th {\n",
       "        text-align: right;\n",
       "    }\n",
       "</style>\n",
       "<table border=\"1\" class=\"dataframe\">\n",
       "  <thead>\n",
       "    <tr style=\"text-align: right;\">\n",
       "      <th></th>\n",
       "      <th>InvoiceNo</th>\n",
       "      <th>StockCode</th>\n",
       "      <th>Description</th>\n",
       "      <th>Quantity</th>\n",
       "      <th>InvoiceDate</th>\n",
       "      <th>UnitPrice</th>\n",
       "      <th>CustomerID</th>\n",
       "      <th>Country</th>\n",
       "    </tr>\n",
       "  </thead>\n",
       "  <tbody>\n",
       "    <tr>\n",
       "      <th>NumberOfMissingValues</th>\n",
       "      <td>0</td>\n",
       "      <td>0</td>\n",
       "      <td>1454</td>\n",
       "      <td>0</td>\n",
       "      <td>0</td>\n",
       "      <td>0</td>\n",
       "      <td>135037</td>\n",
       "      <td>0</td>\n",
       "    </tr>\n",
       "  </tbody>\n",
       "</table>\n",
       "</div>"
      ],
      "text/plain": [
       "                       InvoiceNo  StockCode  Description  Quantity  \\\n",
       "NumberOfMissingValues          0          0         1454         0   \n",
       "\n",
       "                       InvoiceDate  UnitPrice  CustomerID  Country  \n",
       "NumberOfMissingValues            0          0      135037        0  "
      ]
     },
     "execution_count": 8,
     "metadata": {},
     "output_type": "execute_result"
    }
   ],
   "source": [
    "df_na = pd.DataFrame(df_data.isnull().sum(), columns=['NumberOfMissingValues']).T\n",
    "df_na"
   ]
  },
  {
   "cell_type": "code",
   "execution_count": 9,
   "metadata": {},
   "outputs": [
    {
     "name": "stdout",
     "output_type": "stream",
     "text": [
      "Andel af transaktioner uden kunde-ID: 25.16%\n"
     ]
    }
   ],
   "source": [
    "n_transactions_with_no_cust_info = df_na['CustomerID'][0]\n",
    "pct_transactions_no_cust = n_transactions_with_no_cust_info / len(df_data) * 100\n",
    "print(f'Andel af transaktioner uden kunde-ID: {pct_transactions_no_cust:.2f}%')"
   ]
  },
  {
   "cell_type": "markdown",
   "metadata": {},
   "source": [
    "**OBS!** Der er relativ mange transaktioner uden kunde-ID.\n",
    "Forklaring kunne være at kunde-ID er kun sat til transaktioner fra forbrugere\n",
    "mens grossister ikke har en kunde-ID. Bekræft denne hypotese."
   ]
  },
  {
   "cell_type": "markdown",
   "metadata": {},
   "source": [
    "## Split data i to DateFrames"
   ]
  },
  {
   "cell_type": "markdown",
   "metadata": {},
   "source": [
    "Data er joinet. Vi splitter det op for at få et bedre overblik."
   ]
  },
  {
   "cell_type": "code",
   "execution_count": 10,
   "metadata": {},
   "outputs": [],
   "source": [
    "df_invoices = df_data[['StockCode', 'InvoiceNo']].groupby(['InvoiceNo']).count()\n",
    "df_invoices = df_invoices.rename(columns={'StockCode': 'NumberOfItems'})"
   ]
  },
  {
   "cell_type": "code",
   "execution_count": 11,
   "metadata": {},
   "outputs": [],
   "source": [
    "df_data['Revenue'] = df_data['Quantity'] * df_data['UnitPrice']\n",
    "df_invoices['TotalRevenue'] = df_data[['Revenue', 'InvoiceNo']].groupby(['InvoiceNo']).sum()"
   ]
  },
  {
   "cell_type": "code",
   "execution_count": 12,
   "metadata": {},
   "outputs": [],
   "source": [
    "# Antager at kunde, land og dato er angivet på faktura-niveau\n",
    "df_invoices['CustomerID'] = df_data[['CustomerID', 'InvoiceNo']].groupby(['InvoiceNo']).first()\n",
    "df_invoices['HasCustomerID'] = df_invoices[['CustomerID']].isna() == False\n",
    "df_invoices['CustomerID'] = df_invoices.CustomerID.map(lambda v: -1 if pd.isna(v) else int(v)).astype('category')\n",
    "\n",
    "df_invoices['Country'] = df_data[['Country', 'InvoiceNo']].groupby(['InvoiceNo']).first()\n",
    "\n",
    "df_invoices['Date'] = df_data[['InvoiceDate', 'InvoiceNo']].groupby(['InvoiceNo']).first().astype('datetime64[ns]')\n",
    "df_invoices['Year'] = pd.DatetimeIndex(df_invoices['Date']).year\n",
    "df_invoices['Month'] = pd.DatetimeIndex(df_invoices['Date']).month\n",
    "df_invoices['DayOfWeek'] = pd.to_datetime(df_invoices['Date']).dt.day_name()\n",
    "df_invoices['YearAndMonth'] = pd.to_datetime(df_invoices['Date']).dt.to_period('M')"
   ]
  },
  {
   "cell_type": "code",
   "execution_count": 13,
   "metadata": {},
   "outputs": [],
   "source": [
    "df_invoices.reset_index(inplace=True)"
   ]
  },
  {
   "cell_type": "code",
   "execution_count": 14,
   "metadata": {},
   "outputs": [
    {
     "data": {
      "text/html": [
       "<div>\n",
       "<style scoped>\n",
       "    .dataframe tbody tr th:only-of-type {\n",
       "        vertical-align: middle;\n",
       "    }\n",
       "\n",
       "    .dataframe tbody tr th {\n",
       "        vertical-align: top;\n",
       "    }\n",
       "\n",
       "    .dataframe thead th {\n",
       "        text-align: right;\n",
       "    }\n",
       "</style>\n",
       "<table border=\"1\" class=\"dataframe\">\n",
       "  <thead>\n",
       "    <tr style=\"text-align: right;\">\n",
       "      <th></th>\n",
       "      <th>InvoiceNo</th>\n",
       "      <th>NumberOfItems</th>\n",
       "      <th>TotalRevenue</th>\n",
       "      <th>CustomerID</th>\n",
       "      <th>HasCustomerID</th>\n",
       "      <th>Country</th>\n",
       "      <th>Date</th>\n",
       "      <th>Year</th>\n",
       "      <th>Month</th>\n",
       "      <th>DayOfWeek</th>\n",
       "      <th>YearAndMonth</th>\n",
       "    </tr>\n",
       "  </thead>\n",
       "  <tbody>\n",
       "    <tr>\n",
       "      <th>0</th>\n",
       "      <td>536365</td>\n",
       "      <td>7</td>\n",
       "      <td>139.12</td>\n",
       "      <td>17850</td>\n",
       "      <td>True</td>\n",
       "      <td>United Kingdom</td>\n",
       "      <td>2010-12-01 08:26:00</td>\n",
       "      <td>2010</td>\n",
       "      <td>12</td>\n",
       "      <td>Wednesday</td>\n",
       "      <td>2010-12</td>\n",
       "    </tr>\n",
       "    <tr>\n",
       "      <th>1</th>\n",
       "      <td>536366</td>\n",
       "      <td>2</td>\n",
       "      <td>22.20</td>\n",
       "      <td>17850</td>\n",
       "      <td>True</td>\n",
       "      <td>United Kingdom</td>\n",
       "      <td>2010-12-01 08:28:00</td>\n",
       "      <td>2010</td>\n",
       "      <td>12</td>\n",
       "      <td>Wednesday</td>\n",
       "      <td>2010-12</td>\n",
       "    </tr>\n",
       "    <tr>\n",
       "      <th>2</th>\n",
       "      <td>536367</td>\n",
       "      <td>12</td>\n",
       "      <td>278.73</td>\n",
       "      <td>13047</td>\n",
       "      <td>True</td>\n",
       "      <td>United Kingdom</td>\n",
       "      <td>2010-12-01 08:34:00</td>\n",
       "      <td>2010</td>\n",
       "      <td>12</td>\n",
       "      <td>Wednesday</td>\n",
       "      <td>2010-12</td>\n",
       "    </tr>\n",
       "    <tr>\n",
       "      <th>3</th>\n",
       "      <td>536368</td>\n",
       "      <td>4</td>\n",
       "      <td>70.05</td>\n",
       "      <td>13047</td>\n",
       "      <td>True</td>\n",
       "      <td>United Kingdom</td>\n",
       "      <td>2010-12-01 08:34:00</td>\n",
       "      <td>2010</td>\n",
       "      <td>12</td>\n",
       "      <td>Wednesday</td>\n",
       "      <td>2010-12</td>\n",
       "    </tr>\n",
       "    <tr>\n",
       "      <th>4</th>\n",
       "      <td>536369</td>\n",
       "      <td>1</td>\n",
       "      <td>17.85</td>\n",
       "      <td>13047</td>\n",
       "      <td>True</td>\n",
       "      <td>United Kingdom</td>\n",
       "      <td>2010-12-01 08:35:00</td>\n",
       "      <td>2010</td>\n",
       "      <td>12</td>\n",
       "      <td>Wednesday</td>\n",
       "      <td>2010-12</td>\n",
       "    </tr>\n",
       "  </tbody>\n",
       "</table>\n",
       "</div>"
      ],
      "text/plain": [
       "  InvoiceNo  NumberOfItems  TotalRevenue CustomerID  HasCustomerID  \\\n",
       "0    536365              7        139.12      17850           True   \n",
       "1    536366              2         22.20      17850           True   \n",
       "2    536367             12        278.73      13047           True   \n",
       "3    536368              4         70.05      13047           True   \n",
       "4    536369              1         17.85      13047           True   \n",
       "\n",
       "          Country                Date  Year  Month  DayOfWeek YearAndMonth  \n",
       "0  United Kingdom 2010-12-01 08:26:00  2010     12  Wednesday      2010-12  \n",
       "1  United Kingdom 2010-12-01 08:28:00  2010     12  Wednesday      2010-12  \n",
       "2  United Kingdom 2010-12-01 08:34:00  2010     12  Wednesday      2010-12  \n",
       "3  United Kingdom 2010-12-01 08:34:00  2010     12  Wednesday      2010-12  \n",
       "4  United Kingdom 2010-12-01 08:35:00  2010     12  Wednesday      2010-12  "
      ]
     },
     "execution_count": 14,
     "metadata": {},
     "output_type": "execute_result"
    }
   ],
   "source": [
    "df_invoices.head()"
   ]
  },
  {
   "cell_type": "code",
   "execution_count": 15,
   "metadata": {},
   "outputs": [],
   "source": [
    "df_invoice_lines = df_data[['InvoiceNo', 'StockCode', 'Description', 'Quantity', 'UnitPrice', 'Revenue']]"
   ]
  },
  {
   "cell_type": "code",
   "execution_count": 16,
   "metadata": {},
   "outputs": [
    {
     "data": {
      "text/html": [
       "<div>\n",
       "<style scoped>\n",
       "    .dataframe tbody tr th:only-of-type {\n",
       "        vertical-align: middle;\n",
       "    }\n",
       "\n",
       "    .dataframe tbody tr th {\n",
       "        vertical-align: top;\n",
       "    }\n",
       "\n",
       "    .dataframe thead th {\n",
       "        text-align: right;\n",
       "    }\n",
       "</style>\n",
       "<table border=\"1\" class=\"dataframe\">\n",
       "  <thead>\n",
       "    <tr style=\"text-align: right;\">\n",
       "      <th></th>\n",
       "      <th>InvoiceNo</th>\n",
       "      <th>StockCode</th>\n",
       "      <th>Description</th>\n",
       "      <th>Quantity</th>\n",
       "      <th>UnitPrice</th>\n",
       "      <th>Revenue</th>\n",
       "    </tr>\n",
       "  </thead>\n",
       "  <tbody>\n",
       "    <tr>\n",
       "      <th>0</th>\n",
       "      <td>536365</td>\n",
       "      <td>85123A</td>\n",
       "      <td>WHITE HANGING HEART T-LIGHT HOLDER</td>\n",
       "      <td>6</td>\n",
       "      <td>2.55</td>\n",
       "      <td>15.30</td>\n",
       "    </tr>\n",
       "    <tr>\n",
       "      <th>1</th>\n",
       "      <td>536365</td>\n",
       "      <td>71053</td>\n",
       "      <td>WHITE METAL LANTERN</td>\n",
       "      <td>6</td>\n",
       "      <td>3.39</td>\n",
       "      <td>20.34</td>\n",
       "    </tr>\n",
       "    <tr>\n",
       "      <th>2</th>\n",
       "      <td>536365</td>\n",
       "      <td>84406B</td>\n",
       "      <td>CREAM CUPID HEARTS COAT HANGER</td>\n",
       "      <td>8</td>\n",
       "      <td>2.75</td>\n",
       "      <td>22.00</td>\n",
       "    </tr>\n",
       "    <tr>\n",
       "      <th>3</th>\n",
       "      <td>536365</td>\n",
       "      <td>84029G</td>\n",
       "      <td>KNITTED UNION FLAG HOT WATER BOTTLE</td>\n",
       "      <td>6</td>\n",
       "      <td>3.39</td>\n",
       "      <td>20.34</td>\n",
       "    </tr>\n",
       "    <tr>\n",
       "      <th>4</th>\n",
       "      <td>536365</td>\n",
       "      <td>84029E</td>\n",
       "      <td>RED WOOLLY HOTTIE WHITE HEART.</td>\n",
       "      <td>6</td>\n",
       "      <td>3.39</td>\n",
       "      <td>20.34</td>\n",
       "    </tr>\n",
       "  </tbody>\n",
       "</table>\n",
       "</div>"
      ],
      "text/plain": [
       "  InvoiceNo StockCode                          Description  Quantity  \\\n",
       "0    536365    85123A   WHITE HANGING HEART T-LIGHT HOLDER         6   \n",
       "1    536365     71053                  WHITE METAL LANTERN         6   \n",
       "2    536365    84406B       CREAM CUPID HEARTS COAT HANGER         8   \n",
       "3    536365    84029G  KNITTED UNION FLAG HOT WATER BOTTLE         6   \n",
       "4    536365    84029E       RED WOOLLY HOTTIE WHITE HEART.         6   \n",
       "\n",
       "   UnitPrice  Revenue  \n",
       "0       2.55    15.30  \n",
       "1       3.39    20.34  \n",
       "2       2.75    22.00  \n",
       "3       3.39    20.34  \n",
       "4       3.39    20.34  "
      ]
     },
     "execution_count": 16,
     "metadata": {},
     "output_type": "execute_result"
    }
   ],
   "source": [
    "df_invoice_lines.head()"
   ]
  },
  {
   "cell_type": "markdown",
   "metadata": {},
   "source": [
    "## Faktura nummer (InvoiceNo)"
   ]
  },
  {
   "cell_type": "markdown",
   "metadata": {},
   "source": [
    "Lad os først undersøge de enkelte kolonner."
   ]
  },
  {
   "cell_type": "code",
   "execution_count": 17,
   "metadata": {},
   "outputs": [
    {
     "data": {
      "text/plain": [
       "0         536365\n",
       "1         536366\n",
       "2         536367\n",
       "3         536368\n",
       "4         536369\n",
       "          ...   \n",
       "25895    C581484\n",
       "25896    C581490\n",
       "25897    C581499\n",
       "25898    C581568\n",
       "25899    C581569\n",
       "Name: InvoiceNo, Length: 25900, dtype: object"
      ]
     },
     "execution_count": 17,
     "metadata": {},
     "output_type": "execute_result"
    }
   ],
   "source": [
    "df_invoices.InvoiceNo"
   ]
  },
  {
   "cell_type": "markdown",
   "metadata": {},
   "source": [
    "Nogle fakturanumre har et C foran. Hvorfor?"
   ]
  },
  {
   "cell_type": "code",
   "execution_count": 18,
   "metadata": {},
   "outputs": [],
   "source": [
    "df_invoices['AllDigits'] = df_invoices.InvoiceNo.map(lambda v: v.isdigit())"
   ]
  },
  {
   "cell_type": "code",
   "execution_count": 19,
   "metadata": {},
   "outputs": [
    {
     "data": {
      "text/html": [
       "<div>\n",
       "<style scoped>\n",
       "    .dataframe tbody tr th:only-of-type {\n",
       "        vertical-align: middle;\n",
       "    }\n",
       "\n",
       "    .dataframe tbody tr th {\n",
       "        vertical-align: top;\n",
       "    }\n",
       "\n",
       "    .dataframe thead th {\n",
       "        text-align: right;\n",
       "    }\n",
       "</style>\n",
       "<table border=\"1\" class=\"dataframe\">\n",
       "  <thead>\n",
       "    <tr style=\"text-align: right;\">\n",
       "      <th></th>\n",
       "      <th>InvoiceNo</th>\n",
       "      <th>NumberOfItems</th>\n",
       "      <th>TotalRevenue</th>\n",
       "      <th>CustomerID</th>\n",
       "      <th>HasCustomerID</th>\n",
       "      <th>Country</th>\n",
       "      <th>Date</th>\n",
       "      <th>Year</th>\n",
       "      <th>Month</th>\n",
       "      <th>DayOfWeek</th>\n",
       "      <th>YearAndMonth</th>\n",
       "      <th>AllDigits</th>\n",
       "    </tr>\n",
       "  </thead>\n",
       "  <tbody>\n",
       "    <tr>\n",
       "      <th>0</th>\n",
       "      <td>536365</td>\n",
       "      <td>7</td>\n",
       "      <td>139.12</td>\n",
       "      <td>17850</td>\n",
       "      <td>True</td>\n",
       "      <td>United Kingdom</td>\n",
       "      <td>2010-12-01 08:26:00</td>\n",
       "      <td>2010</td>\n",
       "      <td>12</td>\n",
       "      <td>Wednesday</td>\n",
       "      <td>2010-12</td>\n",
       "      <td>True</td>\n",
       "    </tr>\n",
       "    <tr>\n",
       "      <th>1</th>\n",
       "      <td>536366</td>\n",
       "      <td>2</td>\n",
       "      <td>22.20</td>\n",
       "      <td>17850</td>\n",
       "      <td>True</td>\n",
       "      <td>United Kingdom</td>\n",
       "      <td>2010-12-01 08:28:00</td>\n",
       "      <td>2010</td>\n",
       "      <td>12</td>\n",
       "      <td>Wednesday</td>\n",
       "      <td>2010-12</td>\n",
       "      <td>True</td>\n",
       "    </tr>\n",
       "    <tr>\n",
       "      <th>2</th>\n",
       "      <td>536367</td>\n",
       "      <td>12</td>\n",
       "      <td>278.73</td>\n",
       "      <td>13047</td>\n",
       "      <td>True</td>\n",
       "      <td>United Kingdom</td>\n",
       "      <td>2010-12-01 08:34:00</td>\n",
       "      <td>2010</td>\n",
       "      <td>12</td>\n",
       "      <td>Wednesday</td>\n",
       "      <td>2010-12</td>\n",
       "      <td>True</td>\n",
       "    </tr>\n",
       "    <tr>\n",
       "      <th>3</th>\n",
       "      <td>536368</td>\n",
       "      <td>4</td>\n",
       "      <td>70.05</td>\n",
       "      <td>13047</td>\n",
       "      <td>True</td>\n",
       "      <td>United Kingdom</td>\n",
       "      <td>2010-12-01 08:34:00</td>\n",
       "      <td>2010</td>\n",
       "      <td>12</td>\n",
       "      <td>Wednesday</td>\n",
       "      <td>2010-12</td>\n",
       "      <td>True</td>\n",
       "    </tr>\n",
       "    <tr>\n",
       "      <th>4</th>\n",
       "      <td>536369</td>\n",
       "      <td>1</td>\n",
       "      <td>17.85</td>\n",
       "      <td>13047</td>\n",
       "      <td>True</td>\n",
       "      <td>United Kingdom</td>\n",
       "      <td>2010-12-01 08:35:00</td>\n",
       "      <td>2010</td>\n",
       "      <td>12</td>\n",
       "      <td>Wednesday</td>\n",
       "      <td>2010-12</td>\n",
       "      <td>True</td>\n",
       "    </tr>\n",
       "    <tr>\n",
       "      <th>...</th>\n",
       "      <td>...</td>\n",
       "      <td>...</td>\n",
       "      <td>...</td>\n",
       "      <td>...</td>\n",
       "      <td>...</td>\n",
       "      <td>...</td>\n",
       "      <td>...</td>\n",
       "      <td>...</td>\n",
       "      <td>...</td>\n",
       "      <td>...</td>\n",
       "      <td>...</td>\n",
       "      <td>...</td>\n",
       "    </tr>\n",
       "    <tr>\n",
       "      <th>25895</th>\n",
       "      <td>C581484</td>\n",
       "      <td>1</td>\n",
       "      <td>-168469.60</td>\n",
       "      <td>16446</td>\n",
       "      <td>True</td>\n",
       "      <td>United Kingdom</td>\n",
       "      <td>2011-12-09 09:27:00</td>\n",
       "      <td>2011</td>\n",
       "      <td>12</td>\n",
       "      <td>Friday</td>\n",
       "      <td>2011-12</td>\n",
       "      <td>False</td>\n",
       "    </tr>\n",
       "    <tr>\n",
       "      <th>25896</th>\n",
       "      <td>C581490</td>\n",
       "      <td>2</td>\n",
       "      <td>-32.53</td>\n",
       "      <td>14397</td>\n",
       "      <td>True</td>\n",
       "      <td>United Kingdom</td>\n",
       "      <td>2011-12-09 09:57:00</td>\n",
       "      <td>2011</td>\n",
       "      <td>12</td>\n",
       "      <td>Friday</td>\n",
       "      <td>2011-12</td>\n",
       "      <td>False</td>\n",
       "    </tr>\n",
       "    <tr>\n",
       "      <th>25897</th>\n",
       "      <td>C581499</td>\n",
       "      <td>1</td>\n",
       "      <td>-224.69</td>\n",
       "      <td>15498</td>\n",
       "      <td>True</td>\n",
       "      <td>United Kingdom</td>\n",
       "      <td>2011-12-09 10:28:00</td>\n",
       "      <td>2011</td>\n",
       "      <td>12</td>\n",
       "      <td>Friday</td>\n",
       "      <td>2011-12</td>\n",
       "      <td>False</td>\n",
       "    </tr>\n",
       "    <tr>\n",
       "      <th>25898</th>\n",
       "      <td>C581568</td>\n",
       "      <td>1</td>\n",
       "      <td>-54.75</td>\n",
       "      <td>15311</td>\n",
       "      <td>True</td>\n",
       "      <td>United Kingdom</td>\n",
       "      <td>2011-12-09 11:57:00</td>\n",
       "      <td>2011</td>\n",
       "      <td>12</td>\n",
       "      <td>Friday</td>\n",
       "      <td>2011-12</td>\n",
       "      <td>False</td>\n",
       "    </tr>\n",
       "    <tr>\n",
       "      <th>25899</th>\n",
       "      <td>C581569</td>\n",
       "      <td>2</td>\n",
       "      <td>-7.50</td>\n",
       "      <td>17315</td>\n",
       "      <td>True</td>\n",
       "      <td>United Kingdom</td>\n",
       "      <td>2011-12-09 11:58:00</td>\n",
       "      <td>2011</td>\n",
       "      <td>12</td>\n",
       "      <td>Friday</td>\n",
       "      <td>2011-12</td>\n",
       "      <td>False</td>\n",
       "    </tr>\n",
       "  </tbody>\n",
       "</table>\n",
       "<p>25900 rows × 12 columns</p>\n",
       "</div>"
      ],
      "text/plain": [
       "      InvoiceNo  NumberOfItems  TotalRevenue CustomerID  HasCustomerID  \\\n",
       "0        536365              7        139.12      17850           True   \n",
       "1        536366              2         22.20      17850           True   \n",
       "2        536367             12        278.73      13047           True   \n",
       "3        536368              4         70.05      13047           True   \n",
       "4        536369              1         17.85      13047           True   \n",
       "...         ...            ...           ...        ...            ...   \n",
       "25895   C581484              1    -168469.60      16446           True   \n",
       "25896   C581490              2        -32.53      14397           True   \n",
       "25897   C581499              1       -224.69      15498           True   \n",
       "25898   C581568              1        -54.75      15311           True   \n",
       "25899   C581569              2         -7.50      17315           True   \n",
       "\n",
       "              Country                Date  Year  Month  DayOfWeek  \\\n",
       "0      United Kingdom 2010-12-01 08:26:00  2010     12  Wednesday   \n",
       "1      United Kingdom 2010-12-01 08:28:00  2010     12  Wednesday   \n",
       "2      United Kingdom 2010-12-01 08:34:00  2010     12  Wednesday   \n",
       "3      United Kingdom 2010-12-01 08:34:00  2010     12  Wednesday   \n",
       "4      United Kingdom 2010-12-01 08:35:00  2010     12  Wednesday   \n",
       "...               ...                 ...   ...    ...        ...   \n",
       "25895  United Kingdom 2011-12-09 09:27:00  2011     12     Friday   \n",
       "25896  United Kingdom 2011-12-09 09:57:00  2011     12     Friday   \n",
       "25897  United Kingdom 2011-12-09 10:28:00  2011     12     Friday   \n",
       "25898  United Kingdom 2011-12-09 11:57:00  2011     12     Friday   \n",
       "25899  United Kingdom 2011-12-09 11:58:00  2011     12     Friday   \n",
       "\n",
       "      YearAndMonth  AllDigits  \n",
       "0          2010-12       True  \n",
       "1          2010-12       True  \n",
       "2          2010-12       True  \n",
       "3          2010-12       True  \n",
       "4          2010-12       True  \n",
       "...            ...        ...  \n",
       "25895      2011-12      False  \n",
       "25896      2011-12      False  \n",
       "25897      2011-12      False  \n",
       "25898      2011-12      False  \n",
       "25899      2011-12      False  \n",
       "\n",
       "[25900 rows x 12 columns]"
      ]
     },
     "execution_count": 19,
     "metadata": {},
     "output_type": "execute_result"
    }
   ],
   "source": [
    "df_invoices"
   ]
  },
  {
   "cell_type": "markdown",
   "metadata": {},
   "source": [
    "Interessant. Indtægt er negativt. Måske indikerer 'C'-et en kreditnota?\n",
    "Kan vi bekræfte den antagelse?"
   ]
  },
  {
   "cell_type": "code",
   "execution_count": 20,
   "metadata": {},
   "outputs": [
    {
     "data": {
      "text/html": [
       "<div>\n",
       "<style scoped>\n",
       "    .dataframe tbody tr th:only-of-type {\n",
       "        vertical-align: middle;\n",
       "    }\n",
       "\n",
       "    .dataframe tbody tr th {\n",
       "        vertical-align: top;\n",
       "    }\n",
       "\n",
       "    .dataframe thead th {\n",
       "        text-align: right;\n",
       "    }\n",
       "</style>\n",
       "<table border=\"1\" class=\"dataframe\">\n",
       "  <thead>\n",
       "    <tr style=\"text-align: right;\">\n",
       "      <th></th>\n",
       "      <th>count</th>\n",
       "      <th>mean</th>\n",
       "      <th>std</th>\n",
       "      <th>min</th>\n",
       "      <th>25%</th>\n",
       "      <th>50%</th>\n",
       "      <th>75%</th>\n",
       "      <th>max</th>\n",
       "    </tr>\n",
       "  </thead>\n",
       "  <tbody>\n",
       "    <tr>\n",
       "      <th>TotalRevenue</th>\n",
       "      <td>3839.0</td>\n",
       "      <td>-235.749359</td>\n",
       "      <td>3209.245653</td>\n",
       "      <td>-168469.6</td>\n",
       "      <td>-41.375</td>\n",
       "      <td>-16.85</td>\n",
       "      <td>-7.95</td>\n",
       "      <td>11062.06</td>\n",
       "    </tr>\n",
       "  </tbody>\n",
       "</table>\n",
       "</div>"
      ],
      "text/plain": [
       "               count        mean          std       min     25%    50%   75%  \\\n",
       "TotalRevenue  3839.0 -235.749359  3209.245653 -168469.6 -41.375 -16.85 -7.95   \n",
       "\n",
       "                   max  \n",
       "TotalRevenue  11062.06  "
      ]
     },
     "execution_count": 20,
     "metadata": {},
     "output_type": "execute_result"
    }
   ],
   "source": [
    "df_invoices[df_invoices.AllDigits == False][['TotalRevenue']].describe().T"
   ]
  },
  {
   "cell_type": "markdown",
   "metadata": {},
   "source": [
    "Det er ikke alle steder hvor det er negativt. Lad os finde faktura med positiv indtjening."
   ]
  },
  {
   "cell_type": "code",
   "execution_count": 21,
   "metadata": {},
   "outputs": [
    {
     "data": {
      "text/html": [
       "<div>\n",
       "<style scoped>\n",
       "    .dataframe tbody tr th:only-of-type {\n",
       "        vertical-align: middle;\n",
       "    }\n",
       "\n",
       "    .dataframe tbody tr th {\n",
       "        vertical-align: top;\n",
       "    }\n",
       "\n",
       "    .dataframe thead th {\n",
       "        text-align: right;\n",
       "    }\n",
       "</style>\n",
       "<table border=\"1\" class=\"dataframe\">\n",
       "  <thead>\n",
       "    <tr style=\"text-align: right;\">\n",
       "      <th></th>\n",
       "      <th>InvoiceNo</th>\n",
       "      <th>NumberOfItems</th>\n",
       "      <th>TotalRevenue</th>\n",
       "      <th>CustomerID</th>\n",
       "      <th>HasCustomerID</th>\n",
       "      <th>Country</th>\n",
       "      <th>Date</th>\n",
       "      <th>Year</th>\n",
       "      <th>Month</th>\n",
       "      <th>DayOfWeek</th>\n",
       "      <th>YearAndMonth</th>\n",
       "      <th>AllDigits</th>\n",
       "    </tr>\n",
       "  </thead>\n",
       "  <tbody>\n",
       "    <tr>\n",
       "      <th>22061</th>\n",
       "      <td>A563185</td>\n",
       "      <td>1</td>\n",
       "      <td>11062.06</td>\n",
       "      <td>-1</td>\n",
       "      <td>False</td>\n",
       "      <td>United Kingdom</td>\n",
       "      <td>2011-08-12 14:50:00</td>\n",
       "      <td>2011</td>\n",
       "      <td>8</td>\n",
       "      <td>Friday</td>\n",
       "      <td>2011-08</td>\n",
       "      <td>False</td>\n",
       "    </tr>\n",
       "  </tbody>\n",
       "</table>\n",
       "</div>"
      ],
      "text/plain": [
       "      InvoiceNo  NumberOfItems  TotalRevenue CustomerID  HasCustomerID  \\\n",
       "22061   A563185              1      11062.06         -1          False   \n",
       "\n",
       "              Country                Date  Year  Month DayOfWeek YearAndMonth  \\\n",
       "22061  United Kingdom 2011-08-12 14:50:00  2011      8    Friday      2011-08   \n",
       "\n",
       "       AllDigits  \n",
       "22061      False  "
      ]
     },
     "execution_count": 21,
     "metadata": {},
     "output_type": "execute_result"
    }
   ],
   "source": [
    "df_invoices[(df_invoices.AllDigits == False) & (df_invoices.TotalRevenue >= 0)]"
   ]
  },
  {
   "cell_type": "markdown",
   "metadata": {},
   "source": [
    "Der er faktura som starter med A. Hvad mon det betyder?"
   ]
  },
  {
   "cell_type": "code",
   "execution_count": 22,
   "metadata": {},
   "outputs": [
    {
     "data": {
      "text/html": [
       "<div>\n",
       "<style scoped>\n",
       "    .dataframe tbody tr th:only-of-type {\n",
       "        vertical-align: middle;\n",
       "    }\n",
       "\n",
       "    .dataframe tbody tr th {\n",
       "        vertical-align: top;\n",
       "    }\n",
       "\n",
       "    .dataframe thead th {\n",
       "        text-align: right;\n",
       "    }\n",
       "</style>\n",
       "<table border=\"1\" class=\"dataframe\">\n",
       "  <thead>\n",
       "    <tr style=\"text-align: right;\">\n",
       "      <th></th>\n",
       "      <th>InvoiceNo</th>\n",
       "      <th>StockCode</th>\n",
       "      <th>Description</th>\n",
       "      <th>Quantity</th>\n",
       "      <th>UnitPrice</th>\n",
       "      <th>Revenue</th>\n",
       "    </tr>\n",
       "  </thead>\n",
       "  <tbody>\n",
       "    <tr>\n",
       "      <th>299982</th>\n",
       "      <td>A563185</td>\n",
       "      <td>B</td>\n",
       "      <td>Adjust bad debt</td>\n",
       "      <td>1</td>\n",
       "      <td>11062.06</td>\n",
       "      <td>11062.06</td>\n",
       "    </tr>\n",
       "    <tr>\n",
       "      <th>299983</th>\n",
       "      <td>A563186</td>\n",
       "      <td>B</td>\n",
       "      <td>Adjust bad debt</td>\n",
       "      <td>1</td>\n",
       "      <td>-11062.06</td>\n",
       "      <td>-11062.06</td>\n",
       "    </tr>\n",
       "    <tr>\n",
       "      <th>299984</th>\n",
       "      <td>A563187</td>\n",
       "      <td>B</td>\n",
       "      <td>Adjust bad debt</td>\n",
       "      <td>1</td>\n",
       "      <td>-11062.06</td>\n",
       "      <td>-11062.06</td>\n",
       "    </tr>\n",
       "  </tbody>\n",
       "</table>\n",
       "</div>"
      ],
      "text/plain": [
       "       InvoiceNo StockCode      Description  Quantity  UnitPrice   Revenue\n",
       "299982   A563185         B  Adjust bad debt         1   11062.06  11062.06\n",
       "299983   A563186         B  Adjust bad debt         1  -11062.06 -11062.06\n",
       "299984   A563187         B  Adjust bad debt         1  -11062.06 -11062.06"
      ]
     },
     "execution_count": 22,
     "metadata": {},
     "output_type": "execute_result"
    }
   ],
   "source": [
    "df_invoice_lines[df_invoice_lines.InvoiceNo.str.startswith('A')]"
   ]
  },
  {
   "cell_type": "markdown",
   "metadata": {},
   "source": [
    "Det lader til at der er tale om afskrivningsposter."
   ]
  },
  {
   "cell_type": "code",
   "execution_count": 23,
   "metadata": {},
   "outputs": [
    {
     "name": "stdout",
     "output_type": "stream",
     "text": [
      "Antal faktura: 25900\n",
      "Antal faktura med A-nummer: 3\n",
      "Antal faktura med C-nummer: 3836\n",
      "Antal faktura uden prefix: 22061\n"
     ]
    }
   ],
   "source": [
    "filter_A = df_invoices.InvoiceNo.str.startswith('A')\n",
    "filter_C = df_invoices.InvoiceNo.str.startswith('C')\n",
    "n_invoices_A = len(df_invoices[filter_A])\n",
    "n_invoices_C = len(df_invoices[filter_C])\n",
    "n_invoices_rest = len(df_invoices[~filter_A & ~filter_C])\n",
    "n_invoices_total = len(df_invoices)\n",
    "\n",
    "print(f'Antal faktura: {n_invoices_total}')\n",
    "print(f'Antal faktura med A-nummer: {n_invoices_A}')\n",
    "print(f'Antal faktura med C-nummer: {n_invoices_C}')\n",
    "print(f'Antal faktura uden prefix: {n_invoices_rest}')"
   ]
  },
  {
   "cell_type": "markdown",
   "metadata": {},
   "source": [
    "Umiddelbart ser det ud som om at der er tre typer af faktura:\n",
    "- Salgsfaktura (intet bogstav i fakturanummer)\n",
    "- Kreditnota (fakturanummer starter med et C)\n",
    "- Afskrivning (fakturanummer starter med et A)"
   ]
  },
  {
   "cell_type": "code",
   "execution_count": 24,
   "metadata": {},
   "outputs": [],
   "source": [
    "def get_type(invoice_no):\n",
    "    if invoice_no[0] == 'A':\n",
    "        return 'Write-Off'\n",
    "    if invoice_no[0] == 'C':\n",
    "        return 'Credit Note'\n",
    "    return 'Standard'\n",
    "\n",
    "df_invoices['Type'] = df_invoices.InvoiceNo.map(get_type)"
   ]
  },
  {
   "cell_type": "code",
   "execution_count": 25,
   "metadata": {},
   "outputs": [
    {
     "data": {
      "text/html": [
       "<div>\n",
       "<style scoped>\n",
       "    .dataframe tbody tr th:only-of-type {\n",
       "        vertical-align: middle;\n",
       "    }\n",
       "\n",
       "    .dataframe tbody tr th {\n",
       "        vertical-align: top;\n",
       "    }\n",
       "\n",
       "    .dataframe thead th {\n",
       "        text-align: right;\n",
       "    }\n",
       "</style>\n",
       "<table border=\"1\" class=\"dataframe\">\n",
       "  <thead>\n",
       "    <tr style=\"text-align: right;\">\n",
       "      <th></th>\n",
       "      <th>InvoiceNo</th>\n",
       "      <th>NumberOfItems</th>\n",
       "      <th>TotalRevenue</th>\n",
       "      <th>CustomerID</th>\n",
       "      <th>HasCustomerID</th>\n",
       "      <th>Country</th>\n",
       "      <th>Date</th>\n",
       "      <th>Year</th>\n",
       "      <th>Month</th>\n",
       "      <th>DayOfWeek</th>\n",
       "      <th>YearAndMonth</th>\n",
       "      <th>AllDigits</th>\n",
       "      <th>Type</th>\n",
       "    </tr>\n",
       "  </thead>\n",
       "  <tbody>\n",
       "    <tr>\n",
       "      <th>0</th>\n",
       "      <td>536365</td>\n",
       "      <td>7</td>\n",
       "      <td>139.12</td>\n",
       "      <td>17850</td>\n",
       "      <td>True</td>\n",
       "      <td>United Kingdom</td>\n",
       "      <td>2010-12-01 08:26:00</td>\n",
       "      <td>2010</td>\n",
       "      <td>12</td>\n",
       "      <td>Wednesday</td>\n",
       "      <td>2010-12</td>\n",
       "      <td>True</td>\n",
       "      <td>Standard</td>\n",
       "    </tr>\n",
       "    <tr>\n",
       "      <th>1</th>\n",
       "      <td>536366</td>\n",
       "      <td>2</td>\n",
       "      <td>22.20</td>\n",
       "      <td>17850</td>\n",
       "      <td>True</td>\n",
       "      <td>United Kingdom</td>\n",
       "      <td>2010-12-01 08:28:00</td>\n",
       "      <td>2010</td>\n",
       "      <td>12</td>\n",
       "      <td>Wednesday</td>\n",
       "      <td>2010-12</td>\n",
       "      <td>True</td>\n",
       "      <td>Standard</td>\n",
       "    </tr>\n",
       "    <tr>\n",
       "      <th>2</th>\n",
       "      <td>536367</td>\n",
       "      <td>12</td>\n",
       "      <td>278.73</td>\n",
       "      <td>13047</td>\n",
       "      <td>True</td>\n",
       "      <td>United Kingdom</td>\n",
       "      <td>2010-12-01 08:34:00</td>\n",
       "      <td>2010</td>\n",
       "      <td>12</td>\n",
       "      <td>Wednesday</td>\n",
       "      <td>2010-12</td>\n",
       "      <td>True</td>\n",
       "      <td>Standard</td>\n",
       "    </tr>\n",
       "    <tr>\n",
       "      <th>3</th>\n",
       "      <td>536368</td>\n",
       "      <td>4</td>\n",
       "      <td>70.05</td>\n",
       "      <td>13047</td>\n",
       "      <td>True</td>\n",
       "      <td>United Kingdom</td>\n",
       "      <td>2010-12-01 08:34:00</td>\n",
       "      <td>2010</td>\n",
       "      <td>12</td>\n",
       "      <td>Wednesday</td>\n",
       "      <td>2010-12</td>\n",
       "      <td>True</td>\n",
       "      <td>Standard</td>\n",
       "    </tr>\n",
       "    <tr>\n",
       "      <th>4</th>\n",
       "      <td>536369</td>\n",
       "      <td>1</td>\n",
       "      <td>17.85</td>\n",
       "      <td>13047</td>\n",
       "      <td>True</td>\n",
       "      <td>United Kingdom</td>\n",
       "      <td>2010-12-01 08:35:00</td>\n",
       "      <td>2010</td>\n",
       "      <td>12</td>\n",
       "      <td>Wednesday</td>\n",
       "      <td>2010-12</td>\n",
       "      <td>True</td>\n",
       "      <td>Standard</td>\n",
       "    </tr>\n",
       "  </tbody>\n",
       "</table>\n",
       "</div>"
      ],
      "text/plain": [
       "  InvoiceNo  NumberOfItems  TotalRevenue CustomerID  HasCustomerID  \\\n",
       "0    536365              7        139.12      17850           True   \n",
       "1    536366              2         22.20      17850           True   \n",
       "2    536367             12        278.73      13047           True   \n",
       "3    536368              4         70.05      13047           True   \n",
       "4    536369              1         17.85      13047           True   \n",
       "\n",
       "          Country                Date  Year  Month  DayOfWeek YearAndMonth  \\\n",
       "0  United Kingdom 2010-12-01 08:26:00  2010     12  Wednesday      2010-12   \n",
       "1  United Kingdom 2010-12-01 08:28:00  2010     12  Wednesday      2010-12   \n",
       "2  United Kingdom 2010-12-01 08:34:00  2010     12  Wednesday      2010-12   \n",
       "3  United Kingdom 2010-12-01 08:34:00  2010     12  Wednesday      2010-12   \n",
       "4  United Kingdom 2010-12-01 08:35:00  2010     12  Wednesday      2010-12   \n",
       "\n",
       "   AllDigits      Type  \n",
       "0       True  Standard  \n",
       "1       True  Standard  \n",
       "2       True  Standard  \n",
       "3       True  Standard  \n",
       "4       True  Standard  "
      ]
     },
     "execution_count": 25,
     "metadata": {},
     "output_type": "execute_result"
    }
   ],
   "source": [
    "df_invoices.head()"
   ]
  },
  {
   "cell_type": "markdown",
   "metadata": {},
   "source": [
    "## Omsætning per faktura"
   ]
  },
  {
   "cell_type": "code",
   "execution_count": 26,
   "metadata": {},
   "outputs": [
    {
     "data": {
      "image/png": "[encoded data removed]",
      "text/plain": [
       "<Figure size 1008x504 with 1 Axes>"
      ]
     },
     "metadata": {},
     "output_type": "display_data"
    }
   ],
   "source": [
    "fig, ax = plt.subplots(figsize=(14, 7))\n",
    "sns.distplot(df_invoices.TotalRevenue, kde=False, norm_hist=True, ax=ax)\n",
    "ax.set_yscale('log')"
   ]
  },
  {
   "cell_type": "markdown",
   "metadata": {},
   "source": [
    "Der er faktura med store positive og negative tal. Lad os kigge på dem."
   ]
  },
  {
   "cell_type": "code",
   "execution_count": 27,
   "metadata": {},
   "outputs": [
    {
     "data": {
      "text/html": [
       "<div>\n",
       "<style scoped>\n",
       "    .dataframe tbody tr th:only-of-type {\n",
       "        vertical-align: middle;\n",
       "    }\n",
       "\n",
       "    .dataframe tbody tr th {\n",
       "        vertical-align: top;\n",
       "    }\n",
       "\n",
       "    .dataframe thead th {\n",
       "        text-align: right;\n",
       "    }\n",
       "</style>\n",
       "<table border=\"1\" class=\"dataframe\">\n",
       "  <thead>\n",
       "    <tr style=\"text-align: right;\">\n",
       "      <th></th>\n",
       "      <th>InvoiceNo</th>\n",
       "      <th>NumberOfItems</th>\n",
       "      <th>TotalRevenue</th>\n",
       "      <th>CustomerID</th>\n",
       "      <th>HasCustomerID</th>\n",
       "      <th>Country</th>\n",
       "      <th>Date</th>\n",
       "      <th>Year</th>\n",
       "      <th>Month</th>\n",
       "      <th>DayOfWeek</th>\n",
       "      <th>YearAndMonth</th>\n",
       "      <th>AllDigits</th>\n",
       "      <th>Type</th>\n",
       "    </tr>\n",
       "  </thead>\n",
       "  <tbody>\n",
       "    <tr>\n",
       "      <th>2303</th>\n",
       "      <td>541431</td>\n",
       "      <td>1</td>\n",
       "      <td>77183.60</td>\n",
       "      <td>12346</td>\n",
       "      <td>True</td>\n",
       "      <td>United Kingdom</td>\n",
       "      <td>2011-01-18 10:01:00</td>\n",
       "      <td>2011</td>\n",
       "      <td>1</td>\n",
       "      <td>Tuesday</td>\n",
       "      <td>2011-01</td>\n",
       "      <td>True</td>\n",
       "      <td>Standard</td>\n",
       "    </tr>\n",
       "    <tr>\n",
       "      <th>18776</th>\n",
       "      <td>574941</td>\n",
       "      <td>101</td>\n",
       "      <td>52940.94</td>\n",
       "      <td>-1</td>\n",
       "      <td>False</td>\n",
       "      <td>United Kingdom</td>\n",
       "      <td>2011-11-07 17:42:00</td>\n",
       "      <td>2011</td>\n",
       "      <td>11</td>\n",
       "      <td>Monday</td>\n",
       "      <td>2011-11</td>\n",
       "      <td>True</td>\n",
       "      <td>Standard</td>\n",
       "    </tr>\n",
       "    <tr>\n",
       "      <th>19468</th>\n",
       "      <td>576365</td>\n",
       "      <td>99</td>\n",
       "      <td>50653.91</td>\n",
       "      <td>-1</td>\n",
       "      <td>False</td>\n",
       "      <td>United Kingdom</td>\n",
       "      <td>2011-11-14 17:55:00</td>\n",
       "      <td>2011</td>\n",
       "      <td>11</td>\n",
       "      <td>Monday</td>\n",
       "      <td>2011-11</td>\n",
       "      <td>True</td>\n",
       "      <td>Standard</td>\n",
       "    </tr>\n",
       "    <tr>\n",
       "      <th>22025</th>\n",
       "      <td>581483</td>\n",
       "      <td>1</td>\n",
       "      <td>168469.60</td>\n",
       "      <td>16446</td>\n",
       "      <td>True</td>\n",
       "      <td>United Kingdom</td>\n",
       "      <td>2011-12-09 09:15:00</td>\n",
       "      <td>2011</td>\n",
       "      <td>12</td>\n",
       "      <td>Friday</td>\n",
       "      <td>2011-12</td>\n",
       "      <td>True</td>\n",
       "      <td>Standard</td>\n",
       "    </tr>\n",
       "    <tr>\n",
       "      <th>22510</th>\n",
       "      <td>C541433</td>\n",
       "      <td>1</td>\n",
       "      <td>-77183.60</td>\n",
       "      <td>12346</td>\n",
       "      <td>True</td>\n",
       "      <td>United Kingdom</td>\n",
       "      <td>2011-01-18 10:17:00</td>\n",
       "      <td>2011</td>\n",
       "      <td>1</td>\n",
       "      <td>Tuesday</td>\n",
       "      <td>2011-01</td>\n",
       "      <td>False</td>\n",
       "      <td>Credit Note</td>\n",
       "    </tr>\n",
       "    <tr>\n",
       "      <th>25895</th>\n",
       "      <td>C581484</td>\n",
       "      <td>1</td>\n",
       "      <td>-168469.60</td>\n",
       "      <td>16446</td>\n",
       "      <td>True</td>\n",
       "      <td>United Kingdom</td>\n",
       "      <td>2011-12-09 09:27:00</td>\n",
       "      <td>2011</td>\n",
       "      <td>12</td>\n",
       "      <td>Friday</td>\n",
       "      <td>2011-12</td>\n",
       "      <td>False</td>\n",
       "      <td>Credit Note</td>\n",
       "    </tr>\n",
       "  </tbody>\n",
       "</table>\n",
       "</div>"
      ],
      "text/plain": [
       "      InvoiceNo  NumberOfItems  TotalRevenue CustomerID  HasCustomerID  \\\n",
       "2303     541431              1      77183.60      12346           True   \n",
       "18776    574941            101      52940.94         -1          False   \n",
       "19468    576365             99      50653.91         -1          False   \n",
       "22025    581483              1     168469.60      16446           True   \n",
       "22510   C541433              1     -77183.60      12346           True   \n",
       "25895   C581484              1    -168469.60      16446           True   \n",
       "\n",
       "              Country                Date  Year  Month DayOfWeek YearAndMonth  \\\n",
       "2303   United Kingdom 2011-01-18 10:01:00  2011      1   Tuesday      2011-01   \n",
       "18776  United Kingdom 2011-11-07 17:42:00  2011     11    Monday      2011-11   \n",
       "19468  United Kingdom 2011-11-14 17:55:00  2011     11    Monday      2011-11   \n",
       "22025  United Kingdom 2011-12-09 09:15:00  2011     12    Friday      2011-12   \n",
       "22510  United Kingdom 2011-01-18 10:17:00  2011      1   Tuesday      2011-01   \n",
       "25895  United Kingdom 2011-12-09 09:27:00  2011     12    Friday      2011-12   \n",
       "\n",
       "       AllDigits         Type  \n",
       "2303        True     Standard  \n",
       "18776       True     Standard  \n",
       "19468       True     Standard  \n",
       "22025       True     Standard  \n",
       "22510      False  Credit Note  \n",
       "25895      False  Credit Note  "
      ]
     },
     "execution_count": 27,
     "metadata": {},
     "output_type": "execute_result"
    }
   ],
   "source": [
    "df_invoices[(df_invoices.TotalRevenue < -50000) | (df_invoices.TotalRevenue > 50000)]"
   ]
  },
  {
   "cell_type": "markdown",
   "metadata": {},
   "source": [
    "- Faktura 541431 blev krediteret -- kreditnota C541433\n",
    "- Faktura 581483 blev krediteret -- kreditnota C581484\n",
    "- Faktura 574941 og 576365 ser umiddelbart OK ud. Der er dog ingen kunde-ID på dem. Det kunne tænkes at det er salg til grosister."
   ]
  },
  {
   "cell_type": "markdown",
   "metadata": {},
   "source": [
    "### Omsætning per måned"
   ]
  },
  {
   "cell_type": "code",
   "execution_count": 28,
   "metadata": {},
   "outputs": [],
   "source": [
    "filter_with_cust_id = df_invoices.HasCustomerID\n",
    "df_rev_data = df_invoices[filter_with_cust_id][['TotalRevenue', 'YearAndMonth']].groupby(['YearAndMonth']).sum()\n",
    "df_rev_data = df_rev_data.rename(columns={'TotalRevenue': 'Kunder'})\n",
    "\n",
    "filter_without_cust_id = df_invoices.HasCustomerID == False\n",
    "df_rev_data['Løssalg'] = df_invoices[filter_without_cust_id][['TotalRevenue', 'YearAndMonth']].groupby(['YearAndMonth']).sum()\n",
    "\n",
    "df_rev_data.reset_index(inplace=True)"
   ]
  },
  {
   "cell_type": "code",
   "execution_count": 29,
   "metadata": {},
   "outputs": [
    {
     "data": {
      "text/html": [
       "<div>\n",
       "<style scoped>\n",
       "    .dataframe tbody tr th:only-of-type {\n",
       "        vertical-align: middle;\n",
       "    }\n",
       "\n",
       "    .dataframe tbody tr th {\n",
       "        vertical-align: top;\n",
       "    }\n",
       "\n",
       "    .dataframe thead th {\n",
       "        text-align: right;\n",
       "    }\n",
       "</style>\n",
       "<table border=\"1\" class=\"dataframe\">\n",
       "  <thead>\n",
       "    <tr style=\"text-align: right;\">\n",
       "      <th></th>\n",
       "      <th>0</th>\n",
       "      <th>1</th>\n",
       "      <th>2</th>\n",
       "      <th>3</th>\n",
       "      <th>4</th>\n",
       "      <th>5</th>\n",
       "      <th>6</th>\n",
       "      <th>7</th>\n",
       "      <th>8</th>\n",
       "      <th>9</th>\n",
       "      <th>10</th>\n",
       "      <th>11</th>\n",
       "      <th>12</th>\n",
       "    </tr>\n",
       "  </thead>\n",
       "  <tbody>\n",
       "    <tr>\n",
       "      <th>YearAndMonth</th>\n",
       "      <td>2010-12</td>\n",
       "      <td>2011-01</td>\n",
       "      <td>2011-02</td>\n",
       "      <td>2011-03</td>\n",
       "      <td>2011-04</td>\n",
       "      <td>2011-05</td>\n",
       "      <td>2011-06</td>\n",
       "      <td>2011-07</td>\n",
       "      <td>2011-08</td>\n",
       "      <td>2011-09</td>\n",
       "      <td>2011-10</td>\n",
       "      <td>2011-11</td>\n",
       "      <td>2011-12</td>\n",
       "    </tr>\n",
       "    <tr>\n",
       "      <th>Kunder</th>\n",
       "      <td>552373</td>\n",
       "      <td>473732</td>\n",
       "      <td>435534</td>\n",
       "      <td>578576</td>\n",
       "      <td>425223</td>\n",
       "      <td>647012</td>\n",
       "      <td>606863</td>\n",
       "      <td>573112</td>\n",
       "      <td>615078</td>\n",
       "      <td>929356</td>\n",
       "      <td>973306</td>\n",
       "      <td>1.12682e+06</td>\n",
       "      <td>341539</td>\n",
       "    </tr>\n",
       "    <tr>\n",
       "      <th>Løssalg</th>\n",
       "      <td>194351</td>\n",
       "      <td>84716.7</td>\n",
       "      <td>61492.3</td>\n",
       "      <td>103438</td>\n",
       "      <td>67145.2</td>\n",
       "      <td>75082.4</td>\n",
       "      <td>83114.7</td>\n",
       "      <td>107045</td>\n",
       "      <td>66308.4</td>\n",
       "      <td>88240.5</td>\n",
       "      <td>96061.9</td>\n",
       "      <td>329331</td>\n",
       "      <td>91161.6</td>\n",
       "    </tr>\n",
       "  </tbody>\n",
       "</table>\n",
       "</div>"
      ],
      "text/plain": [
       "                    0        1        2        3        4        5        6  \\\n",
       "YearAndMonth  2010-12  2011-01  2011-02  2011-03  2011-04  2011-05  2011-06   \n",
       "Kunder         552373   473732   435534   578576   425223   647012   606863   \n",
       "Løssalg        194351  84716.7  61492.3   103438  67145.2  75082.4  83114.7   \n",
       "\n",
       "                    7        8        9       10           11       12  \n",
       "YearAndMonth  2011-07  2011-08  2011-09  2011-10      2011-11  2011-12  \n",
       "Kunder         573112   615078   929356   973306  1.12682e+06   341539  \n",
       "Løssalg        107045  66308.4  88240.5  96061.9       329331  91161.6  "
      ]
     },
     "execution_count": 29,
     "metadata": {},
     "output_type": "execute_result"
    }
   ],
   "source": [
    "df_rev_data.T"
   ]
  },
  {
   "cell_type": "code",
   "execution_count": 30,
   "metadata": {},
   "outputs": [
    {
     "data": {
      "image/png": "[encoded data removed]",
      "text/plain": [
       "<Figure size 1008x432 with 1 Axes>"
      ]
     },
     "metadata": {},
     "output_type": "display_data"
    }
   ],
   "source": [
    "fig, ax = plt.subplots(figsize=(14, 6))\n",
    "\n",
    "df_plot_data = df_rev_data.melt('YearAndMonth', var_name='Type', value_name='Value')\n",
    "sns.barplot(x='YearAndMonth', y='Value', hue='Type', data=df_plot_data, ax=ax)\n",
    "ax.yaxis.set_major_formatter(mpl.ticker.StrMethodFormatter('{x:,.0f}'))\n",
    "ax.set_xlabel('År og måned')\n",
    "ax.set_ylabel('Omsætning')\n",
    "ax.set_title('Månedlige omsætning fordelt mellem kunder/løssalg');"
   ]
  },
  {
   "cell_type": "markdown",
   "metadata": {},
   "source": [
    "- Faste kunder står for langt størstedelen af den månedlige omsætningen. Faste kunder er grosister? Måske skal vi fokusere på dem.\n",
    "- Omsætning er størst i november. Kan skyldes Black Friday. Efterfulgt af september og oktober. Måske skal grosister fylde lagre i månederne op til Black Friday.\n",
    "- Vi skal nok se bort fra tallene i december 2011 da vi kun har data til og med den 9. december 2011"
   ]
  },
  {
   "cell_type": "markdown",
   "metadata": {},
   "source": [
    "### Omsætning per kunde"
   ]
  },
  {
   "cell_type": "code",
   "execution_count": 31,
   "metadata": {},
   "outputs": [],
   "source": [
    "df_invoice_customers = df_invoices[df_invoices.HasCustomerID == True]\n",
    "\n",
    "df_rev_by_cust = df_invoice_customers[['CustomerID', 'InvoiceNo']].groupby('CustomerID').count()\n",
    "df_rev_by_cust = df_rev_by_cust.rename(columns={'InvoiceNo': 'NumberOfInvoices'})\n",
    "\n",
    "df_rev_by_cust['TotalRevenue'] = df_invoice_customers[['CustomerID', 'TotalRevenue']].groupby('CustomerID').sum()\n",
    "df_rev_by_cust['AvgRevenuePerInvoice'] = df_rev_by_cust['TotalRevenue'] / df_rev_by_cust['NumberOfInvoices']\n",
    "df_rev_by_cust['Country'] = df_invoice_customers[['CustomerID', 'Country']].groupby('CustomerID').first()"
   ]
  },
  {
   "cell_type": "code",
   "execution_count": 32,
   "metadata": {},
   "outputs": [
    {
     "data": {
      "text/html": [
       "<div>\n",
       "<style scoped>\n",
       "    .dataframe tbody tr th:only-of-type {\n",
       "        vertical-align: middle;\n",
       "    }\n",
       "\n",
       "    .dataframe tbody tr th {\n",
       "        vertical-align: top;\n",
       "    }\n",
       "\n",
       "    .dataframe thead th {\n",
       "        text-align: right;\n",
       "    }\n",
       "</style>\n",
       "<table border=\"1\" class=\"dataframe\">\n",
       "  <thead>\n",
       "    <tr style=\"text-align: right;\">\n",
       "      <th></th>\n",
       "      <th>NumberOfInvoices</th>\n",
       "      <th>TotalRevenue</th>\n",
       "      <th>AvgRevenuePerInvoice</th>\n",
       "      <th>Country</th>\n",
       "    </tr>\n",
       "    <tr>\n",
       "      <th>CustomerID</th>\n",
       "      <th></th>\n",
       "      <th></th>\n",
       "      <th></th>\n",
       "      <th></th>\n",
       "    </tr>\n",
       "  </thead>\n",
       "  <tbody>\n",
       "    <tr>\n",
       "      <th>-1</th>\n",
       "      <td>0</td>\n",
       "      <td>0.00</td>\n",
       "      <td>NaN</td>\n",
       "      <td>NaN</td>\n",
       "    </tr>\n",
       "    <tr>\n",
       "      <th>12346</th>\n",
       "      <td>2</td>\n",
       "      <td>0.00</td>\n",
       "      <td>0.000000</td>\n",
       "      <td>United Kingdom</td>\n",
       "    </tr>\n",
       "    <tr>\n",
       "      <th>12347</th>\n",
       "      <td>7</td>\n",
       "      <td>4310.00</td>\n",
       "      <td>615.714286</td>\n",
       "      <td>Iceland</td>\n",
       "    </tr>\n",
       "    <tr>\n",
       "      <th>12348</th>\n",
       "      <td>4</td>\n",
       "      <td>1797.24</td>\n",
       "      <td>449.310000</td>\n",
       "      <td>Finland</td>\n",
       "    </tr>\n",
       "    <tr>\n",
       "      <th>12349</th>\n",
       "      <td>1</td>\n",
       "      <td>1757.55</td>\n",
       "      <td>1757.550000</td>\n",
       "      <td>Italy</td>\n",
       "    </tr>\n",
       "  </tbody>\n",
       "</table>\n",
       "</div>"
      ],
      "text/plain": [
       "            NumberOfInvoices  TotalRevenue  AvgRevenuePerInvoice  \\\n",
       "CustomerID                                                         \n",
       "-1                         0          0.00                   NaN   \n",
       " 12346                     2          0.00              0.000000   \n",
       " 12347                     7       4310.00            615.714286   \n",
       " 12348                     4       1797.24            449.310000   \n",
       " 12349                     1       1757.55           1757.550000   \n",
       "\n",
       "                   Country  \n",
       "CustomerID                  \n",
       "-1                     NaN  \n",
       " 12346      United Kingdom  \n",
       " 12347             Iceland  \n",
       " 12348             Finland  \n",
       " 12349               Italy  "
      ]
     },
     "execution_count": 32,
     "metadata": {},
     "output_type": "execute_result"
    }
   ],
   "source": [
    "df_rev_by_cust.head()"
   ]
  },
  {
   "cell_type": "code",
   "execution_count": 33,
   "metadata": {},
   "outputs": [
    {
     "name": "stdout",
     "output_type": "stream",
     "text": [
      "Samlet resultat på tværs af kunder og løssalg: 9,726,007 £.\n",
      "Samlet resultat på registrede kunder 8,278,519 £.\n"
     ]
    }
   ],
   "source": [
    "total_result = df_invoices.TotalRevenue.sum()\n",
    "total_result_customers = df_rev_by_cust.TotalRevenue.sum()\n",
    "\n",
    "print(f'Samlet resultat på tværs af kunder og løssalg: {total_result:,.0f} £.')\n",
    "print(f'Samlet resultat på registrede kunder {total_result_customers:,.0f} £.')"
   ]
  },
  {
   "cell_type": "markdown",
   "metadata": {},
   "source": [
    "Lad os kigge på vores største kunder."
   ]
  },
  {
   "cell_type": "code",
   "execution_count": 34,
   "metadata": {},
   "outputs": [],
   "source": [
    "df_plot_data = df_rev_by_cust.sort_values('TotalRevenue', ascending=False)\n",
    "n_top = 20\n",
    "df_plot_data = df_plot_data[['TotalRevenue']].iloc[0:n_top]\n",
    "# df_plot_data.T"
   ]
  },
  {
   "cell_type": "code",
   "execution_count": 35,
   "metadata": {},
   "outputs": [
    {
     "data": {
      "image/png": "[encoded data removed]",
      "text/plain": [
       "<Figure size 1008x432 with 1 Axes>"
      ]
     },
     "metadata": {},
     "output_type": "display_data"
    }
   ],
   "source": [
    "fig, ax = plt.subplots(figsize=(14, 6))\n",
    "df_plot_data.plot(kind='bar', ax=ax)\n",
    "\n",
    "ax.yaxis.set_major_formatter(mpl.ticker.StrMethodFormatter('{x:,.0f}'))\n",
    "ax.set_xlabel('Kunde ID')\n",
    "ax.set_ylabel('Omsætning')\n",
    "ax.set_title(f'Samlet omsætning for top {n_top} kunder');"
   ]
  },
  {
   "cell_type": "markdown",
   "metadata": {},
   "source": [
    "### Omsætning per land"
   ]
  },
  {
   "cell_type": "code",
   "execution_count": 36,
   "metadata": {},
   "outputs": [
    {
     "data": {
      "image/png": "[encoded data removed]",
      "text/plain": [
       "<Figure size 1008x432 with 1 Axes>"
      ]
     },
     "metadata": {},
     "output_type": "display_data"
    }
   ],
   "source": [
    "fig, ax = plt.subplots(figsize=(14, 6))\n",
    "\n",
    "(df_rev_by_cust[['TotalRevenue', 'Country']]\n",
    "   .groupby('Country')\n",
    "   .sum()\n",
    "   .sort_values('TotalRevenue', ascending=False)\n",
    "   .plot(kind='bar', ax=ax)\n",
    ")\n",
    "# ax.set_yscale('log')\n",
    "ax.set_xlabel('Land')\n",
    "ax.set_ylabel('Omsætning')\n",
    "ax.yaxis.set_major_formatter(mpl.ticker.StrMethodFormatter('{x:,.0f}'))\n",
    "ax.set_title('Samlet omsætning (registrerede kunder) per land');"
   ]
  },
  {
   "cell_type": "markdown",
   "metadata": {},
   "source": [
    "- Salg til kunder i England dominerer."
   ]
  },
  {
   "cell_type": "code",
   "execution_count": 37,
   "metadata": {},
   "outputs": [
    {
     "data": {
      "image/png": "[encoded data removed]",
      "text/plain": [
       "<Figure size 1008x432 with 1 Axes>"
      ]
     },
     "metadata": {},
     "output_type": "display_data"
    }
   ],
   "source": [
    "fig, ax = plt.subplots(figsize=(14, 6))\n",
    "(df_rev_by_cust[df_rev_by_cust.Country != 'United Kingdom'][['TotalRevenue', 'Country']]\n",
    "   .groupby('Country')\n",
    "   .sum()\n",
    "   .sort_values('TotalRevenue', ascending=False)\n",
    "   .plot(kind='bar', ax=ax)\n",
    ")\n",
    "#ax.set_yscale('log')\n",
    "ax.set_xlabel('Land')\n",
    "ax.set_ylabel('Omsætning')\n",
    "ax.yaxis.set_major_formatter(mpl.ticker.StrMethodFormatter('{x:,.0f}'))\n",
    "ax.set_title('Samlet omsætning per land udenfor UK.');"
   ]
  },
  {
   "cell_type": "markdown",
   "metadata": {},
   "source": [
    "### Kunder per land"
   ]
  },
  {
   "cell_type": "code",
   "execution_count": 38,
   "metadata": {},
   "outputs": [
    {
     "data": {
      "image/png": "[encoded data removed]",
      "text/plain": [
       "<Figure size 1008x432 with 1 Axes>"
      ]
     },
     "metadata": {},
     "output_type": "display_data"
    }
   ],
   "source": [
    "fig, ax = plt.subplots(figsize=(14, 6))\n",
    "(df_rev_by_cust[['TotalRevenue', 'Country']]\n",
    "   .groupby('Country')\n",
    "   .count()\n",
    "   .sort_values('TotalRevenue', ascending=False)\n",
    "   .plot(kind='bar', ax=ax)\n",
    ")\n",
    "# ax.set_yscale('log')\n",
    "ax.set_xlabel('Land')\n",
    "ax.set_ylabel('Omsætning')\n",
    "ax.yaxis.set_major_formatter(mpl.ticker.StrMethodFormatter('{x:,.0f}'))\n",
    "ax.set_title('Samlet omsætning per land udenfor UK.');"
   ]
  },
  {
   "cell_type": "markdown",
   "metadata": {},
   "source": [
    "- Som forventet, de fleste kunder er fra England. Det kan godt betale sig at fokusere på UK."
   ]
  },
  {
   "cell_type": "markdown",
   "metadata": {},
   "source": [
    "## Segmentering af kunder"
   ]
  },
  {
   "cell_type": "markdown",
   "metadata": {},
   "source": [
    "Segmentering kan give os en bedre forståelse af behov hos kunderne. Grosister køber på baggrund af behov end de gør af lyst.\n",
    "\n",
    "- Muligheder for vækstpotentiale blandt eksisterende kunder bl.a. ved at vide hvad de har behov for før de bestiller\n",
    "- Proaktiv og data-drevet markedsføring for at tiltrække flere kunder."
   ]
  },
  {
   "cell_type": "markdown",
   "metadata": {},
   "source": [
    "Da jeg ikke har demokrafiske data, kan man forsøger sig med at segmentere udfra købsadfærd. Jeg prøver RFM-metoden (Recency, Frequency and Monetary) som går ud på at kategorisere kunder baseret på tre parametre ([kilde](https://www.putler.com/rfm-analysis/)):\n",
    "- Recency: hvornår en kunde sidst har købt noget (antal dage siden sidste købsdato)\n",
    "- Frequency: antallet af ordrer\n",
    "- Monetary: total omsætning"
   ]
  },
  {
   "cell_type": "markdown",
   "metadata": {},
   "source": [
    "Jeg mangler blot at udregne Recency."
   ]
  },
  {
   "cell_type": "code",
   "execution_count": 39,
   "metadata": {},
   "outputs": [],
   "source": [
    "df_rev_by_cust['LatestPurchaseDate'] = df_invoices.groupby('CustomerID')[['Date']].max()\n",
    "\n",
    "# Bemærk: Antal dage siden sidste fakturadato er en simplificering\n",
    "today = df_invoices.Date.max() + pd.DateOffset(days=2)\n",
    "df_rev_by_cust['Recency'] = df_rev_by_cust['LatestPurchaseDate'].map(lambda v: (today - v).days)"
   ]
  },
  {
   "cell_type": "code",
   "execution_count": 40,
   "metadata": {},
   "outputs": [],
   "source": [
    "df_rfm_data = df_rev_by_cust[df_rev_by_cust.TotalRevenue > 0][['Recency', 'NumberOfInvoices', 'TotalRevenue']].rename(\n",
    "    columns={'Recency': 'RValue', 'NumberOfInvoices': 'FValue', 'TotalRevenue': 'MValue'}\n",
    ")"
   ]
  },
  {
   "cell_type": "code",
   "execution_count": 41,
   "metadata": {},
   "outputs": [
    {
     "data": {
      "text/html": [
       "<div>\n",
       "<style scoped>\n",
       "    .dataframe tbody tr th:only-of-type {\n",
       "        vertical-align: middle;\n",
       "    }\n",
       "\n",
       "    .dataframe tbody tr th {\n",
       "        vertical-align: top;\n",
       "    }\n",
       "\n",
       "    .dataframe thead th {\n",
       "        text-align: right;\n",
       "    }\n",
       "</style>\n",
       "<table border=\"1\" class=\"dataframe\">\n",
       "  <thead>\n",
       "    <tr style=\"text-align: right;\">\n",
       "      <th></th>\n",
       "      <th>RValue</th>\n",
       "      <th>FValue</th>\n",
       "      <th>MValue</th>\n",
       "    </tr>\n",
       "    <tr>\n",
       "      <th>CustomerID</th>\n",
       "      <th></th>\n",
       "      <th></th>\n",
       "      <th></th>\n",
       "    </tr>\n",
       "  </thead>\n",
       "  <tbody>\n",
       "    <tr>\n",
       "      <th>12347</th>\n",
       "      <td>3</td>\n",
       "      <td>7</td>\n",
       "      <td>4310.00</td>\n",
       "    </tr>\n",
       "    <tr>\n",
       "      <th>12348</th>\n",
       "      <td>76</td>\n",
       "      <td>4</td>\n",
       "      <td>1797.24</td>\n",
       "    </tr>\n",
       "    <tr>\n",
       "      <th>12349</th>\n",
       "      <td>20</td>\n",
       "      <td>1</td>\n",
       "      <td>1757.55</td>\n",
       "    </tr>\n",
       "    <tr>\n",
       "      <th>12350</th>\n",
       "      <td>311</td>\n",
       "      <td>1</td>\n",
       "      <td>334.40</td>\n",
       "    </tr>\n",
       "    <tr>\n",
       "      <th>12352</th>\n",
       "      <td>37</td>\n",
       "      <td>11</td>\n",
       "      <td>1545.41</td>\n",
       "    </tr>\n",
       "  </tbody>\n",
       "</table>\n",
       "</div>"
      ],
      "text/plain": [
       "            RValue  FValue   MValue\n",
       "CustomerID                         \n",
       "12347            3       7  4310.00\n",
       "12348           76       4  1797.24\n",
       "12349           20       1  1757.55\n",
       "12350          311       1   334.40\n",
       "12352           37      11  1545.41"
      ]
     },
     "execution_count": 41,
     "metadata": {},
     "output_type": "execute_result"
    }
   ],
   "source": [
    "df_rfm_data.head()"
   ]
  },
  {
   "cell_type": "markdown",
   "metadata": {},
   "source": [
    "Nu kan jeg udregne en score for hver af de tre parametre. Jeg bruger en scoringsmetode via fem kvartiler som i beskrevet i [Putler](https://www.putler.com/rfm-analysis/)."
   ]
  },
  {
   "cell_type": "code",
   "execution_count": 42,
   "metadata": {},
   "outputs": [],
   "source": [
    "df_rfm_data['RScore'] = pd.qcut(df_rfm_data['RValue'], q=5, labels=[1, 2, 3, 4, 5]).astype(int)\n",
    "\n",
    "# Rank data: https://stackoverflow.com/questions/20158597/how-to-qcut-with-non-unique-bin-edges\n",
    "df_rfm_data['FScore'] = pd.qcut(df_rfm_data['FValue'].rank(method='first'), q=5, labels=[1, 2, 3, 4, 5]).astype(int)\n",
    "\n",
    "df_rfm_data['MScore'] = pd.qcut(df_rfm_data['MValue'], q=5, labels=[1, 2, 3, 4, 5]).astype(int)"
   ]
  },
  {
   "cell_type": "code",
   "execution_count": 43,
   "metadata": {},
   "outputs": [
    {
     "data": {
      "text/html": [
       "<div>\n",
       "<style scoped>\n",
       "    .dataframe tbody tr th:only-of-type {\n",
       "        vertical-align: middle;\n",
       "    }\n",
       "\n",
       "    .dataframe tbody tr th {\n",
       "        vertical-align: top;\n",
       "    }\n",
       "\n",
       "    .dataframe thead th {\n",
       "        text-align: right;\n",
       "    }\n",
       "</style>\n",
       "<table border=\"1\" class=\"dataframe\">\n",
       "  <thead>\n",
       "    <tr style=\"text-align: right;\">\n",
       "      <th></th>\n",
       "      <th>RValue</th>\n",
       "      <th>FValue</th>\n",
       "      <th>MValue</th>\n",
       "      <th>RScore</th>\n",
       "      <th>FScore</th>\n",
       "      <th>MScore</th>\n",
       "    </tr>\n",
       "    <tr>\n",
       "      <th>CustomerID</th>\n",
       "      <th></th>\n",
       "      <th></th>\n",
       "      <th></th>\n",
       "      <th></th>\n",
       "      <th></th>\n",
       "      <th></th>\n",
       "    </tr>\n",
       "  </thead>\n",
       "  <tbody>\n",
       "    <tr>\n",
       "      <th>12347</th>\n",
       "      <td>3</td>\n",
       "      <td>7</td>\n",
       "      <td>4310.00</td>\n",
       "      <td>1</td>\n",
       "      <td>4</td>\n",
       "      <td>5</td>\n",
       "    </tr>\n",
       "    <tr>\n",
       "      <th>12348</th>\n",
       "      <td>76</td>\n",
       "      <td>4</td>\n",
       "      <td>1797.24</td>\n",
       "      <td>4</td>\n",
       "      <td>3</td>\n",
       "      <td>4</td>\n",
       "    </tr>\n",
       "    <tr>\n",
       "      <th>12349</th>\n",
       "      <td>20</td>\n",
       "      <td>1</td>\n",
       "      <td>1757.55</td>\n",
       "      <td>2</td>\n",
       "      <td>1</td>\n",
       "      <td>4</td>\n",
       "    </tr>\n",
       "    <tr>\n",
       "      <th>12350</th>\n",
       "      <td>311</td>\n",
       "      <td>1</td>\n",
       "      <td>334.40</td>\n",
       "      <td>5</td>\n",
       "      <td>1</td>\n",
       "      <td>2</td>\n",
       "    </tr>\n",
       "    <tr>\n",
       "      <th>12352</th>\n",
       "      <td>37</td>\n",
       "      <td>11</td>\n",
       "      <td>1545.41</td>\n",
       "      <td>3</td>\n",
       "      <td>5</td>\n",
       "      <td>4</td>\n",
       "    </tr>\n",
       "  </tbody>\n",
       "</table>\n",
       "</div>"
      ],
      "text/plain": [
       "            RValue  FValue   MValue  RScore  FScore  MScore\n",
       "CustomerID                                                 \n",
       "12347            3       7  4310.00       1       4       5\n",
       "12348           76       4  1797.24       4       3       4\n",
       "12349           20       1  1757.55       2       1       4\n",
       "12350          311       1   334.40       5       1       2\n",
       "12352           37      11  1545.41       3       5       4"
      ]
     },
     "execution_count": 43,
     "metadata": {},
     "output_type": "execute_result"
    }
   ],
   "source": [
    "df_rfm_data.head()"
   ]
  },
  {
   "cell_type": "markdown",
   "metadata": {},
   "source": [
    "Man kan kombinere Frequency-Score og Monetary-Score fordi de samlet set udtrykker  hvor meget en kunde køber.\n",
    "Jeg bruger gennemsnittet af de to scores."
   ]
  },
  {
   "cell_type": "code",
   "execution_count": 44,
   "metadata": {},
   "outputs": [],
   "source": [
    "df_rfm_data['FMScore'] = np.round((df_rfm_data['FScore'] + df_rfm_data['MScore']) / 2)\n",
    "df_rfm_data['FMScore'] = df_rfm_data['FMScore'].astype(int)"
   ]
  },
  {
   "cell_type": "markdown",
   "metadata": {},
   "source": [
    "Data er klar til segmentering. Man kan bruge en tabel til kategorisere sine kunder. Denne tabel er fra [Putler](https://www.putler.com/rfm-analysis/):"
   ]
  },
  {
   "cell_type": "markdown",
   "metadata": {},
   "source": [
    "| Customer Segment            | Recency | F & M |\n",
    "|-----------------------------|---------|-------|\n",
    "| Champions                   | 4-5     | 4-5   |\n",
    "| Loyal Customers             | 2-5     | 3-5   |\n",
    "| Potential Loyalist          | 3-5     | 1-3   |\n",
    "| Recent Customers            | 4-5     | 0-1   |\n",
    "| Promising                   | 3-4     | 0-1   |\n",
    "| Customers Needing Attention | 2-3     | 2-3   |\n",
    "| About To Sleep              | 2-3     | 0-2   |\n",
    "| At Risk                     | 0-2     | 2-5   |\n",
    "| Can’t Lose Them             | 0-1     | 4-5   |\n",
    "| Hibernating                 | 1-2     | 1-2   |\n",
    "| Lost                        | 0-2     | 0-2   |"
   ]
  },
  {
   "cell_type": "markdown",
   "metadata": {},
   "source": [
    "\n",
    "<img src=\"https://uploads-ssl.webflow.com/5d28e43c1770c36fefd51134/5d2e5c092663b9516caadca8_11%20RFM%20Customer%20Segments%20-%20Retail.png\" width=\"600\" />\n",
    "\n",
    "[Kilde](https://blog.hmscommerce.com/blog-posts/the-rfm-model-for-proven-segmentation)\n"
   ]
  },
  {
   "cell_type": "markdown",
   "metadata": {},
   "source": [
    "*Bemærk:* Nul er ikke en mulig score ifølge deres egen artikel men tabellen indeholder 0. Retter det til da det muligvis er tale om slåfejl."
   ]
  },
  {
   "cell_type": "code",
   "execution_count": 45,
   "metadata": {},
   "outputs": [],
   "source": [
    "segment_table = {\n",
    "  'Champions': [(4, 5), (4, 5)],\n",
    "  'Loyal Customers': [(2, 5), (3, 5)],\n",
    "  'Potential Loyalist': [(3, 5), (1, 3)],\n",
    "  'Recent Customers': [(4, 5), (1, 2)],\n",
    "  'Promising': [(3, 4), (1, 2)],   \n",
    "  'Customers Needing Attention': [(2, 3), (2, 3)],\n",
    "  'About To Sleep': [(2, 3), (1, 3)],\n",
    "  'At Risk': [(1, 3), (2, 5)],\n",
    "  'Can\\'t Lose Them': [(1, 2), (4, 5)],\n",
    "  'Hibernating': [(1, 2), (1, 2)],\n",
    "  'Lost': [(1, 3), (1, 3)]\n",
    "}"
   ]
  },
  {
   "cell_type": "code",
   "execution_count": 46,
   "metadata": {},
   "outputs": [],
   "source": [
    "score_segment_map = dict()\n",
    "for k, v in segment_table.items():\n",
    "    r_range = v[0][0], v[0][1]+1\n",
    "    fm_range = v[1][0], v[1][1]+1\n",
    "    for i in range(*r_range):\n",
    "        for j in range(*fm_range):\n",
    "            score_segment_map[f'{i}{j}'] = k"
   ]
  },
  {
   "cell_type": "code",
   "execution_count": 47,
   "metadata": {},
   "outputs": [],
   "source": [
    "df_rfm_data['RFMScore'] = df_rfm_data['RScore'].astype(str) + df_rfm_data['FMScore'].astype(str)"
   ]
  },
  {
   "cell_type": "code",
   "execution_count": 48,
   "metadata": {},
   "outputs": [],
   "source": [
    "df_rfm_data['Segment'] = df_rfm_data['RFMScore'].map(lambda v: score_segment_map[v])"
   ]
  },
  {
   "cell_type": "code",
   "execution_count": 49,
   "metadata": {},
   "outputs": [
    {
     "data": {
      "text/html": [
       "<div>\n",
       "<style scoped>\n",
       "    .dataframe tbody tr th:only-of-type {\n",
       "        vertical-align: middle;\n",
       "    }\n",
       "\n",
       "    .dataframe tbody tr th {\n",
       "        vertical-align: top;\n",
       "    }\n",
       "\n",
       "    .dataframe thead th {\n",
       "        text-align: right;\n",
       "    }\n",
       "</style>\n",
       "<table border=\"1\" class=\"dataframe\">\n",
       "  <thead>\n",
       "    <tr style=\"text-align: right;\">\n",
       "      <th></th>\n",
       "      <th>RValue</th>\n",
       "      <th>FValue</th>\n",
       "      <th>MValue</th>\n",
       "      <th>RScore</th>\n",
       "      <th>FScore</th>\n",
       "      <th>MScore</th>\n",
       "      <th>FMScore</th>\n",
       "      <th>RFMScore</th>\n",
       "      <th>Segment</th>\n",
       "    </tr>\n",
       "    <tr>\n",
       "      <th>CustomerID</th>\n",
       "      <th></th>\n",
       "      <th></th>\n",
       "      <th></th>\n",
       "      <th></th>\n",
       "      <th></th>\n",
       "      <th></th>\n",
       "      <th></th>\n",
       "      <th></th>\n",
       "      <th></th>\n",
       "    </tr>\n",
       "  </thead>\n",
       "  <tbody>\n",
       "    <tr>\n",
       "      <th>12347</th>\n",
       "      <td>3</td>\n",
       "      <td>7</td>\n",
       "      <td>4310.00</td>\n",
       "      <td>1</td>\n",
       "      <td>4</td>\n",
       "      <td>5</td>\n",
       "      <td>4</td>\n",
       "      <td>14</td>\n",
       "      <td>Can't Lose Them</td>\n",
       "    </tr>\n",
       "    <tr>\n",
       "      <th>12348</th>\n",
       "      <td>76</td>\n",
       "      <td>4</td>\n",
       "      <td>1797.24</td>\n",
       "      <td>4</td>\n",
       "      <td>3</td>\n",
       "      <td>4</td>\n",
       "      <td>4</td>\n",
       "      <td>44</td>\n",
       "      <td>Loyal Customers</td>\n",
       "    </tr>\n",
       "    <tr>\n",
       "      <th>12349</th>\n",
       "      <td>20</td>\n",
       "      <td>1</td>\n",
       "      <td>1757.55</td>\n",
       "      <td>2</td>\n",
       "      <td>1</td>\n",
       "      <td>4</td>\n",
       "      <td>2</td>\n",
       "      <td>22</td>\n",
       "      <td>Lost</td>\n",
       "    </tr>\n",
       "    <tr>\n",
       "      <th>12350</th>\n",
       "      <td>311</td>\n",
       "      <td>1</td>\n",
       "      <td>334.40</td>\n",
       "      <td>5</td>\n",
       "      <td>1</td>\n",
       "      <td>2</td>\n",
       "      <td>2</td>\n",
       "      <td>52</td>\n",
       "      <td>Recent Customers</td>\n",
       "    </tr>\n",
       "    <tr>\n",
       "      <th>12352</th>\n",
       "      <td>37</td>\n",
       "      <td>11</td>\n",
       "      <td>1545.41</td>\n",
       "      <td>3</td>\n",
       "      <td>5</td>\n",
       "      <td>4</td>\n",
       "      <td>4</td>\n",
       "      <td>34</td>\n",
       "      <td>At Risk</td>\n",
       "    </tr>\n",
       "    <tr>\n",
       "      <th>...</th>\n",
       "      <td>...</td>\n",
       "      <td>...</td>\n",
       "      <td>...</td>\n",
       "      <td>...</td>\n",
       "      <td>...</td>\n",
       "      <td>...</td>\n",
       "      <td>...</td>\n",
       "      <td>...</td>\n",
       "      <td>...</td>\n",
       "    </tr>\n",
       "    <tr>\n",
       "      <th>18280</th>\n",
       "      <td>279</td>\n",
       "      <td>1</td>\n",
       "      <td>180.60</td>\n",
       "      <td>5</td>\n",
       "      <td>2</td>\n",
       "      <td>1</td>\n",
       "      <td>2</td>\n",
       "      <td>52</td>\n",
       "      <td>Recent Customers</td>\n",
       "    </tr>\n",
       "    <tr>\n",
       "      <th>18281</th>\n",
       "      <td>182</td>\n",
       "      <td>1</td>\n",
       "      <td>80.82</td>\n",
       "      <td>5</td>\n",
       "      <td>2</td>\n",
       "      <td>1</td>\n",
       "      <td>2</td>\n",
       "      <td>52</td>\n",
       "      <td>Recent Customers</td>\n",
       "    </tr>\n",
       "    <tr>\n",
       "      <th>18282</th>\n",
       "      <td>9</td>\n",
       "      <td>3</td>\n",
       "      <td>176.60</td>\n",
       "      <td>1</td>\n",
       "      <td>3</td>\n",
       "      <td>1</td>\n",
       "      <td>2</td>\n",
       "      <td>12</td>\n",
       "      <td>Lost</td>\n",
       "    </tr>\n",
       "    <tr>\n",
       "      <th>18283</th>\n",
       "      <td>5</td>\n",
       "      <td>16</td>\n",
       "      <td>2045.53</td>\n",
       "      <td>1</td>\n",
       "      <td>5</td>\n",
       "      <td>5</td>\n",
       "      <td>5</td>\n",
       "      <td>15</td>\n",
       "      <td>Can't Lose Them</td>\n",
       "    </tr>\n",
       "    <tr>\n",
       "      <th>18287</th>\n",
       "      <td>44</td>\n",
       "      <td>3</td>\n",
       "      <td>1837.28</td>\n",
       "      <td>3</td>\n",
       "      <td>3</td>\n",
       "      <td>4</td>\n",
       "      <td>4</td>\n",
       "      <td>34</td>\n",
       "      <td>At Risk</td>\n",
       "    </tr>\n",
       "  </tbody>\n",
       "</table>\n",
       "<p>4319 rows × 9 columns</p>\n",
       "</div>"
      ],
      "text/plain": [
       "            RValue  FValue   MValue  RScore  FScore  MScore  FMScore RFMScore  \\\n",
       "CustomerID                                                                      \n",
       "12347            3       7  4310.00       1       4       5        4       14   \n",
       "12348           76       4  1797.24       4       3       4        4       44   \n",
       "12349           20       1  1757.55       2       1       4        2       22   \n",
       "12350          311       1   334.40       5       1       2        2       52   \n",
       "12352           37      11  1545.41       3       5       4        4       34   \n",
       "...            ...     ...      ...     ...     ...     ...      ...      ...   \n",
       "18280          279       1   180.60       5       2       1        2       52   \n",
       "18281          182       1    80.82       5       2       1        2       52   \n",
       "18282            9       3   176.60       1       3       1        2       12   \n",
       "18283            5      16  2045.53       1       5       5        5       15   \n",
       "18287           44       3  1837.28       3       3       4        4       34   \n",
       "\n",
       "                     Segment  \n",
       "CustomerID                    \n",
       "12347        Can't Lose Them  \n",
       "12348        Loyal Customers  \n",
       "12349                   Lost  \n",
       "12350       Recent Customers  \n",
       "12352                At Risk  \n",
       "...                      ...  \n",
       "18280       Recent Customers  \n",
       "18281       Recent Customers  \n",
       "18282                   Lost  \n",
       "18283        Can't Lose Them  \n",
       "18287                At Risk  \n",
       "\n",
       "[4319 rows x 9 columns]"
      ]
     },
     "execution_count": 49,
     "metadata": {},
     "output_type": "execute_result"
    }
   ],
   "source": [
    "df_rfm_data"
   ]
  },
  {
   "cell_type": "markdown",
   "metadata": {},
   "source": [
    "Hvordan er fordelingen af kunderne i de forskellige segmenter?"
   ]
  },
  {
   "cell_type": "code",
   "execution_count": 50,
   "metadata": {},
   "outputs": [
    {
     "data": {
      "image/png": "[encoded data removed]",
      "text/plain": [
       "<Figure size 1008x432 with 1 Axes>"
      ]
     },
     "metadata": {},
     "output_type": "display_data"
    }
   ],
   "source": [
    "fig, ax = plt.subplots(figsize=(14, 6))\n",
    "\n",
    "df_plot_data = (df_rfm_data[['RValue', 'Segment']]\n",
    "       .groupby('Segment')\n",
    "       .count()\n",
    "       .rename(columns={'RValue':'Antal'})\n",
    "       .sort_values('Antal', ascending=False)\n",
    ")\n",
    "\n",
    "df_plot_data.plot(kind='bar', ax=ax)\n",
    "\n",
    "total_count = df_plot_data['Antal'].sum()\n",
    "pct_vals = list(df_plot_data['Antal'] / total_count)\n",
    "for i, p in enumerate(ax.patches):\n",
    "    width, height = p.get_width(), p.get_height()\n",
    "    x, y = p.get_xy() \n",
    "    ax.annotate(f'{pct_vals[i]:.0%}', (x, y + height + 0.01))\n",
    "\n",
    "for tick in ax.get_xticklabels():\n",
    "    tick.set_rotation(0)\n",
    "ax.set_xlabel('Segment')\n",
    "ax.set_ylabel('Antal')\n",
    "ax.yaxis.set_major_formatter(mpl.ticker.StrMethodFormatter('{x:,.0f}'))\n",
    "\n",
    "ax.set_title('Antallet af kunder per segment.');"
   ]
  },
  {
   "cell_type": "markdown",
   "metadata": {},
   "source": [
    "Can't Lose Them: 27% af kunderne har lav-mellem R-score men høj FM-score\n",
    " - Lav-mellem R-score: det er noget tid siden kunderne i denne gruppe har købt noget i forhold til de andre kunder.\n",
    " - Høj FM-score: Har tidligere handlet flere gange og brugt mange penge.\n",
    " - Undersøg hvad man kan gøre for at få dem til at handle noget oftere. Spørg om deres behov via et spørgeskemaundersøgelse.\n",
    " \n",
    "Lost: 25% af kunderne har lav R og FM scores.\n",
    " - Lav R-score: lang tid siden sidst handlet.\n",
    " - Lav FM-score: køber ikke ikke så tit og generelt bruger de lidt penge.\n",
    " - Man kan undersøge om det kan svare sig at bruge tid på disse kunder. Måske er de engangskunder som handler rundt i forskellige webshops. Er de pris-sensitive?\n",
    " \n",
    "Recent: 17% af kunderne har høj R-score men lav-mellem FM-score\n",
    " - En stor andel af kunderne har handlet fornyelig, men har ikke brugt så store summer.\n",
    " - Man kan prøve at påvirke dem så de får et godt indtryk af webshoppen. De kan nogle gode velkomst-tilbud, gratis vareprøver mm.\n",
    "\n",
    "Promising: 11% af kunderne har mellem R-score men lav FM-score\n",
    " - Kundegruppen har handlet for ikke længe siden, men har ikke handlet så meget og bruger ikke så mange penge.\n",
    " - Lidt ligesom de nye kunder i Recent.\n",
    " \n",
    "At Risk: 8% af kunder har lav R-score men mellem-høj FM-score\n",
    " - Kunder som vi ikke har set i lang tid. Tidligere har de brugt store summer og handlet ofte.\n",
    " - Lidt ligesom *Can't Lose Them* segmentet.\n",
    " \n",
    "Loyal Customers: 8% af kunderne har RFM-score i den mellem-høje ende.\n",
    " - Kundegruppen har vi set for nylig, handler ofte og bruge mange penge på vores forrretning.\n",
    " - Værd at kigge på hvilke produkter de køber for at blive klog på deres behov.\n",
    " - Nogle af disse kunder kan måske lokkes til at lave produkt-reviews. Kan muligvis være interesseret i at købe dyrere varer.\n",
    "  \n",
    "Potential Loyalist: 4% af kunderne har mellem-høj R-score mens FM-score ligger lavere end de loyale kunder.\n",
    " - De har handlet i nyere end den loyale kundegruppe men bruger ikke så mange penge."
   ]
  }
 ],
 "metadata": {
  "kernelspec": {
   "display_name": "Python 3",
   "language": "python",
   "name": "python3"
  },
  "language_info": {
   "codemirror_mode": {
    "name": "ipython",
    "version": 3
   },
   "file_extension": ".py",
   "mimetype": "text/x-python",
   "name": "python",
   "nbconvert_exporter": "python",
   "pygments_lexer": "ipython3",
   "version": "3.8.2"
  }
 },
 "nbformat": 4,
 "nbformat_minor": 4
}
