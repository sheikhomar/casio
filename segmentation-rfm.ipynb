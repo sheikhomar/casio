{
 "cells": [
  {
   "cell_type": "markdown",
   "metadata": {},
   "source": [
    "# Segmentering vha. RFM"
   ]
  },
  {
   "cell_type": "markdown",
   "metadata": {},
   "source": [
    "Segmentering kan give os en bedre forståelse af behov hos kunderne:\n",
    "\n",
    "- Muligheder for vækstpotentiale blandt eksisterende kunder bl.a. ved at vide hvad de har behov for før de bestiller\n",
    "- Proaktiv og data-drevet markedsføring for at tiltrække flere kunder."
   ]
  },
  {
   "cell_type": "markdown",
   "metadata": {},
   "source": [
    "Hvis man ikke har demokrafiske data, kan man forsøge sig med at segmentere udfra købsadfærd. \n",
    "\n",
    "I den her notesbog prøver jeg RFM-metoden. Det er en simpel som går ud på at kategorisere kunder baseret på tre parametre ([kilde](https://www.putler.com/rfm-analysis/)):\n",
    "- **R**ecency: hvornår en kunde sidst har købt noget (antal dage siden sidste købsdato)\n",
    "- **F**requency: antallet af ordrer\n",
    "- **M**onetary: total omsætning"
   ]
  },
  {
   "cell_type": "markdown",
   "metadata": {},
   "source": [
    "## Kode"
   ]
  },
  {
   "cell_type": "code",
   "execution_count": 1,
   "metadata": {},
   "outputs": [],
   "source": [
    "import numpy as np\n",
    "import pandas as pd\n",
    "import matplotlib as mpl\n",
    "import matplotlib.pyplot as plt\n",
    "\n",
    "import seaborn as sns\n",
    "from IPython.display import display\n",
    "\n",
    "sns.set()\n",
    "sns.set_context('talk', font_scale=1)"
   ]
  },
  {
   "cell_type": "code",
   "execution_count": 2,
   "metadata": {},
   "outputs": [],
   "source": [
    "def draw_box_and_dist_plots(x: pd.Series, bins=50):\n",
    "    fig, axes = plt.subplots(nrows=2, figsize=(14, 7), sharex=True, gridspec_kw= {\"height_ratios\": (0.15, 1)})\n",
    "    sns.boxplot(x, ax=axes[0])\n",
    "    sns.distplot(x, kde=False, bins=bins, ax=axes[1])\n",
    "\n",
    "    mode, mean, median = x.mode()[0], x.mean(),  x.median()\n",
    "    for ax in axes:\n",
    "        ax.axvline(mode, color='green', linestyle='-')\n",
    "        ax.axvline(mean, color='red', linestyle='--')\n",
    "        ax.axvline(median, color='orange', linestyle='-')\n",
    "    axes[1].legend({\n",
    "        f'Typeværdi: {mode:.0f}': mode,\n",
    "        f'Gennemsnit: {mean:.0f}': mean,\n",
    "        f'Median: {median:.0f}': median \n",
    "    })\n",
    "    return axes"
   ]
  },
  {
   "cell_type": "markdown",
   "metadata": {},
   "source": [
    "## Data præprocessering"
   ]
  },
  {
   "cell_type": "code",
   "execution_count": 3,
   "metadata": {},
   "outputs": [],
   "source": [
    "df_data = pd.read_csv('data/ecommerce-data.zip', encoding='ISO-8859-1')"
   ]
  },
  {
   "cell_type": "code",
   "execution_count": 4,
   "metadata": {},
   "outputs": [
    {
     "data": {
      "text/html": [
       "<div>\n",
       "<style scoped>\n",
       "    .dataframe tbody tr th:only-of-type {\n",
       "        vertical-align: middle;\n",
       "    }\n",
       "\n",
       "    .dataframe tbody tr th {\n",
       "        vertical-align: top;\n",
       "    }\n",
       "\n",
       "    .dataframe thead th {\n",
       "        text-align: right;\n",
       "    }\n",
       "</style>\n",
       "<table border=\"1\" class=\"dataframe\">\n",
       "  <thead>\n",
       "    <tr style=\"text-align: right;\">\n",
       "      <th></th>\n",
       "      <th>InvoiceNo</th>\n",
       "      <th>StockCode</th>\n",
       "      <th>Description</th>\n",
       "      <th>Quantity</th>\n",
       "      <th>InvoiceDate</th>\n",
       "      <th>UnitPrice</th>\n",
       "      <th>CustomerID</th>\n",
       "      <th>Country</th>\n",
       "    </tr>\n",
       "  </thead>\n",
       "  <tbody>\n",
       "    <tr>\n",
       "      <th>0</th>\n",
       "      <td>536365</td>\n",
       "      <td>85123A</td>\n",
       "      <td>WHITE HANGING HEART T-LIGHT HOLDER</td>\n",
       "      <td>6</td>\n",
       "      <td>12/1/2010 8:26</td>\n",
       "      <td>2.55</td>\n",
       "      <td>17850.0</td>\n",
       "      <td>United Kingdom</td>\n",
       "    </tr>\n",
       "    <tr>\n",
       "      <th>1</th>\n",
       "      <td>536365</td>\n",
       "      <td>71053</td>\n",
       "      <td>WHITE METAL LANTERN</td>\n",
       "      <td>6</td>\n",
       "      <td>12/1/2010 8:26</td>\n",
       "      <td>3.39</td>\n",
       "      <td>17850.0</td>\n",
       "      <td>United Kingdom</td>\n",
       "    </tr>\n",
       "    <tr>\n",
       "      <th>2</th>\n",
       "      <td>536365</td>\n",
       "      <td>84406B</td>\n",
       "      <td>CREAM CUPID HEARTS COAT HANGER</td>\n",
       "      <td>8</td>\n",
       "      <td>12/1/2010 8:26</td>\n",
       "      <td>2.75</td>\n",
       "      <td>17850.0</td>\n",
       "      <td>United Kingdom</td>\n",
       "    </tr>\n",
       "    <tr>\n",
       "      <th>3</th>\n",
       "      <td>536365</td>\n",
       "      <td>84029G</td>\n",
       "      <td>KNITTED UNION FLAG HOT WATER BOTTLE</td>\n",
       "      <td>6</td>\n",
       "      <td>12/1/2010 8:26</td>\n",
       "      <td>3.39</td>\n",
       "      <td>17850.0</td>\n",
       "      <td>United Kingdom</td>\n",
       "    </tr>\n",
       "    <tr>\n",
       "      <th>4</th>\n",
       "      <td>536365</td>\n",
       "      <td>84029E</td>\n",
       "      <td>RED WOOLLY HOTTIE WHITE HEART.</td>\n",
       "      <td>6</td>\n",
       "      <td>12/1/2010 8:26</td>\n",
       "      <td>3.39</td>\n",
       "      <td>17850.0</td>\n",
       "      <td>United Kingdom</td>\n",
       "    </tr>\n",
       "  </tbody>\n",
       "</table>\n",
       "</div>"
      ],
      "text/plain": [
       "  InvoiceNo StockCode                          Description  Quantity  \\\n",
       "0    536365    85123A   WHITE HANGING HEART T-LIGHT HOLDER         6   \n",
       "1    536365     71053                  WHITE METAL LANTERN         6   \n",
       "2    536365    84406B       CREAM CUPID HEARTS COAT HANGER         8   \n",
       "3    536365    84029G  KNITTED UNION FLAG HOT WATER BOTTLE         6   \n",
       "4    536365    84029E       RED WOOLLY HOTTIE WHITE HEART.         6   \n",
       "\n",
       "      InvoiceDate  UnitPrice  CustomerID         Country  \n",
       "0  12/1/2010 8:26       2.55     17850.0  United Kingdom  \n",
       "1  12/1/2010 8:26       3.39     17850.0  United Kingdom  \n",
       "2  12/1/2010 8:26       2.75     17850.0  United Kingdom  \n",
       "3  12/1/2010 8:26       3.39     17850.0  United Kingdom  \n",
       "4  12/1/2010 8:26       3.39     17850.0  United Kingdom  "
      ]
     },
     "execution_count": 4,
     "metadata": {},
     "output_type": "execute_result"
    }
   ],
   "source": [
    "df_data.head(5)"
   ]
  },
  {
   "cell_type": "markdown",
   "metadata": {},
   "source": [
    "Data består af fakturalinjer. RFM-metoden er afhængig at der er kunde-information. Derfor vil jeg fjerne de rækker som ikke har kunde-ID."
   ]
  },
  {
   "cell_type": "code",
   "execution_count": 5,
   "metadata": {},
   "outputs": [],
   "source": [
    "df_data = df_data[~df_data.CustomerID.isna()]"
   ]
  },
  {
   "cell_type": "markdown",
   "metadata": {},
   "source": [
    "Jeg undersøger om der er manglende værdier:"
   ]
  },
  {
   "cell_type": "code",
   "execution_count": 6,
   "metadata": {},
   "outputs": [
    {
     "data": {
      "text/html": [
       "<div>\n",
       "<style scoped>\n",
       "    .dataframe tbody tr th:only-of-type {\n",
       "        vertical-align: middle;\n",
       "    }\n",
       "\n",
       "    .dataframe tbody tr th {\n",
       "        vertical-align: top;\n",
       "    }\n",
       "\n",
       "    .dataframe thead th {\n",
       "        text-align: right;\n",
       "    }\n",
       "</style>\n",
       "<table border=\"1\" class=\"dataframe\">\n",
       "  <thead>\n",
       "    <tr style=\"text-align: right;\">\n",
       "      <th></th>\n",
       "      <th>InvoiceNo</th>\n",
       "      <th>StockCode</th>\n",
       "      <th>Description</th>\n",
       "      <th>Quantity</th>\n",
       "      <th>InvoiceDate</th>\n",
       "      <th>UnitPrice</th>\n",
       "      <th>CustomerID</th>\n",
       "      <th>Country</th>\n",
       "    </tr>\n",
       "  </thead>\n",
       "  <tbody>\n",
       "    <tr>\n",
       "      <th>Antal</th>\n",
       "      <td>0</td>\n",
       "      <td>0</td>\n",
       "      <td>0</td>\n",
       "      <td>0</td>\n",
       "      <td>0</td>\n",
       "      <td>0</td>\n",
       "      <td>0</td>\n",
       "      <td>0</td>\n",
       "    </tr>\n",
       "  </tbody>\n",
       "</table>\n",
       "</div>"
      ],
      "text/plain": [
       "       InvoiceNo  StockCode  Description  Quantity  InvoiceDate  UnitPrice  \\\n",
       "Antal          0          0            0         0            0          0   \n",
       "\n",
       "       CustomerID  Country  \n",
       "Antal           0        0  "
      ]
     },
     "execution_count": 6,
     "metadata": {},
     "output_type": "execute_result"
    }
   ],
   "source": [
    "pd.DataFrame(df_data.isna().sum(), columns=['Antal']).T"
   ]
  },
  {
   "cell_type": "markdown",
   "metadata": {},
   "source": [
    "For at gøre det nemmere for mig selv vil jeg trække faktura-informationer over i en separat DataFrame."
   ]
  },
  {
   "cell_type": "code",
   "execution_count": 7,
   "metadata": {},
   "outputs": [],
   "source": [
    "df_data['Amount'] = df_data['Quantity'] * df_data['UnitPrice']\n",
    "\n",
    "df_invoices = df_data.groupby('InvoiceNo').agg(**{\n",
    "    'CustomerID': ('CustomerID', 'first'),\n",
    "    'NumberOfLines': ('InvoiceNo', 'count'),\n",
    "    'TotalAmount': ('Amount', 'sum'),\n",
    "    'TotalQuantity': ('Quantity', 'sum'),\n",
    "    'Country': ('Country', 'first'),\n",
    "    'Date': ('InvoiceDate', 'first')\n",
    "}).reset_index()\n",
    "\n",
    "df_invoices['CustomerID'] = df_invoices.CustomerID.astype('int32')\n",
    "df_invoices['Date'] = df_invoices['Date'].astype('datetime64[ns]')"
   ]
  },
  {
   "cell_type": "code",
   "execution_count": 8,
   "metadata": {},
   "outputs": [
    {
     "data": {
      "text/html": [
       "<div>\n",
       "<style scoped>\n",
       "    .dataframe tbody tr th:only-of-type {\n",
       "        vertical-align: middle;\n",
       "    }\n",
       "\n",
       "    .dataframe tbody tr th {\n",
       "        vertical-align: top;\n",
       "    }\n",
       "\n",
       "    .dataframe thead th {\n",
       "        text-align: right;\n",
       "    }\n",
       "</style>\n",
       "<table border=\"1\" class=\"dataframe\">\n",
       "  <thead>\n",
       "    <tr style=\"text-align: right;\">\n",
       "      <th></th>\n",
       "      <th>InvoiceNo</th>\n",
       "      <th>CustomerID</th>\n",
       "      <th>NumberOfLines</th>\n",
       "      <th>TotalAmount</th>\n",
       "      <th>TotalQuantity</th>\n",
       "      <th>Country</th>\n",
       "      <th>Date</th>\n",
       "    </tr>\n",
       "  </thead>\n",
       "  <tbody>\n",
       "    <tr>\n",
       "      <th>18996</th>\n",
       "      <td>C541826</td>\n",
       "      <td>18260</td>\n",
       "      <td>3</td>\n",
       "      <td>-18.25</td>\n",
       "      <td>-6</td>\n",
       "      <td>United Kingdom</td>\n",
       "      <td>2011-01-21 17:04:00</td>\n",
       "    </tr>\n",
       "    <tr>\n",
       "      <th>4453</th>\n",
       "      <td>547850</td>\n",
       "      <td>14472</td>\n",
       "      <td>62</td>\n",
       "      <td>311.57</td>\n",
       "      <td>216</td>\n",
       "      <td>United Kingdom</td>\n",
       "      <td>2011-03-27 12:06:00</td>\n",
       "    </tr>\n",
       "    <tr>\n",
       "      <th>14286</th>\n",
       "      <td>571744</td>\n",
       "      <td>14434</td>\n",
       "      <td>2</td>\n",
       "      <td>169.20</td>\n",
       "      <td>72</td>\n",
       "      <td>United Kingdom</td>\n",
       "      <td>2011-10-19 10:43:00</td>\n",
       "    </tr>\n",
       "    <tr>\n",
       "      <th>8155</th>\n",
       "      <td>557018</td>\n",
       "      <td>14285</td>\n",
       "      <td>1</td>\n",
       "      <td>5.90</td>\n",
       "      <td>2</td>\n",
       "      <td>United Kingdom</td>\n",
       "      <td>2011-06-16 12:36:00</td>\n",
       "    </tr>\n",
       "    <tr>\n",
       "      <th>14633</th>\n",
       "      <td>572661</td>\n",
       "      <td>17193</td>\n",
       "      <td>13</td>\n",
       "      <td>760.74</td>\n",
       "      <td>946</td>\n",
       "      <td>United Kingdom</td>\n",
       "      <td>2011-10-25 12:38:00</td>\n",
       "    </tr>\n",
       "  </tbody>\n",
       "</table>\n",
       "</div>"
      ],
      "text/plain": [
       "      InvoiceNo  CustomerID  NumberOfLines  TotalAmount  TotalQuantity  \\\n",
       "18996   C541826       18260              3       -18.25             -6   \n",
       "4453     547850       14472             62       311.57            216   \n",
       "14286    571744       14434              2       169.20             72   \n",
       "8155     557018       14285              1         5.90              2   \n",
       "14633    572661       17193             13       760.74            946   \n",
       "\n",
       "              Country                Date  \n",
       "18996  United Kingdom 2011-01-21 17:04:00  \n",
       "4453   United Kingdom 2011-03-27 12:06:00  \n",
       "14286  United Kingdom 2011-10-19 10:43:00  \n",
       "8155   United Kingdom 2011-06-16 12:36:00  \n",
       "14633  United Kingdom 2011-10-25 12:38:00  "
      ]
     },
     "execution_count": 8,
     "metadata": {},
     "output_type": "execute_result"
    }
   ],
   "source": [
    "df_invoices.sample(5)"
   ]
  },
  {
   "cell_type": "markdown",
   "metadata": {},
   "source": [
    "Jeg har også brug for at aggregere informationer om hver kunde så jeg har opretter en DataFrame til det:"
   ]
  },
  {
   "cell_type": "code",
   "execution_count": 9,
   "metadata": {},
   "outputs": [],
   "source": [
    "df_customers = df_invoices.groupby('CustomerID').agg(**{\n",
    "    'FirstInvoiceDate': ('Date', 'min'),\n",
    "    'LastInvoiceDate': ('Date', 'max'),\n",
    "    'InvoiceCount': ('InvoiceNo', 'count'),\n",
    "    'Revenue': ('TotalAmount', 'sum'),\n",
    "    'Country': ('Country', 'first'),\n",
    "})"
   ]
  },
  {
   "cell_type": "code",
   "execution_count": 10,
   "metadata": {},
   "outputs": [
    {
     "data": {
      "text/html": [
       "<div>\n",
       "<style scoped>\n",
       "    .dataframe tbody tr th:only-of-type {\n",
       "        vertical-align: middle;\n",
       "    }\n",
       "\n",
       "    .dataframe tbody tr th {\n",
       "        vertical-align: top;\n",
       "    }\n",
       "\n",
       "    .dataframe thead th {\n",
       "        text-align: right;\n",
       "    }\n",
       "</style>\n",
       "<table border=\"1\" class=\"dataframe\">\n",
       "  <thead>\n",
       "    <tr style=\"text-align: right;\">\n",
       "      <th></th>\n",
       "      <th>FirstInvoiceDate</th>\n",
       "      <th>LastInvoiceDate</th>\n",
       "      <th>InvoiceCount</th>\n",
       "      <th>Revenue</th>\n",
       "      <th>Country</th>\n",
       "    </tr>\n",
       "    <tr>\n",
       "      <th>CustomerID</th>\n",
       "      <th></th>\n",
       "      <th></th>\n",
       "      <th></th>\n",
       "      <th></th>\n",
       "      <th></th>\n",
       "    </tr>\n",
       "  </thead>\n",
       "  <tbody>\n",
       "    <tr>\n",
       "      <th>12346</th>\n",
       "      <td>2011-01-18 10:01:00</td>\n",
       "      <td>2011-01-18 10:17:00</td>\n",
       "      <td>2</td>\n",
       "      <td>0.00</td>\n",
       "      <td>United Kingdom</td>\n",
       "    </tr>\n",
       "    <tr>\n",
       "      <th>12347</th>\n",
       "      <td>2010-12-07 14:57:00</td>\n",
       "      <td>2011-12-07 15:52:00</td>\n",
       "      <td>7</td>\n",
       "      <td>4310.00</td>\n",
       "      <td>Iceland</td>\n",
       "    </tr>\n",
       "    <tr>\n",
       "      <th>12348</th>\n",
       "      <td>2010-12-16 19:09:00</td>\n",
       "      <td>2011-09-25 13:13:00</td>\n",
       "      <td>4</td>\n",
       "      <td>1797.24</td>\n",
       "      <td>Finland</td>\n",
       "    </tr>\n",
       "    <tr>\n",
       "      <th>12349</th>\n",
       "      <td>2011-11-21 09:51:00</td>\n",
       "      <td>2011-11-21 09:51:00</td>\n",
       "      <td>1</td>\n",
       "      <td>1757.55</td>\n",
       "      <td>Italy</td>\n",
       "    </tr>\n",
       "    <tr>\n",
       "      <th>12350</th>\n",
       "      <td>2011-02-02 16:01:00</td>\n",
       "      <td>2011-02-02 16:01:00</td>\n",
       "      <td>1</td>\n",
       "      <td>334.40</td>\n",
       "      <td>Norway</td>\n",
       "    </tr>\n",
       "  </tbody>\n",
       "</table>\n",
       "</div>"
      ],
      "text/plain": [
       "              FirstInvoiceDate     LastInvoiceDate  InvoiceCount  Revenue  \\\n",
       "CustomerID                                                                  \n",
       "12346      2011-01-18 10:01:00 2011-01-18 10:17:00             2     0.00   \n",
       "12347      2010-12-07 14:57:00 2011-12-07 15:52:00             7  4310.00   \n",
       "12348      2010-12-16 19:09:00 2011-09-25 13:13:00             4  1797.24   \n",
       "12349      2011-11-21 09:51:00 2011-11-21 09:51:00             1  1757.55   \n",
       "12350      2011-02-02 16:01:00 2011-02-02 16:01:00             1   334.40   \n",
       "\n",
       "                   Country  \n",
       "CustomerID                  \n",
       "12346       United Kingdom  \n",
       "12347              Iceland  \n",
       "12348              Finland  \n",
       "12349                Italy  \n",
       "12350               Norway  "
      ]
     },
     "execution_count": 10,
     "metadata": {},
     "output_type": "execute_result"
    }
   ],
   "source": [
    "df_customers.head(5)"
   ]
  },
  {
   "cell_type": "markdown",
   "metadata": {},
   "source": [
    "Jeg vil også fokusere på kunder som butikken tjener penge på:"
   ]
  },
  {
   "cell_type": "code",
   "execution_count": 11,
   "metadata": {},
   "outputs": [],
   "source": [
    "df_customers = df_customers[df_customers.Revenue > 1]"
   ]
  },
  {
   "cell_type": "markdown",
   "metadata": {},
   "source": [
    "## Recency"
   ]
  },
  {
   "cell_type": "markdown",
   "metadata": {},
   "source": [
    "Recency et udtryk for hvor \"frisk\" kunde-kontakten er. Man kan kvanticere det på er at udregne antal måneder eller dage en kunde sidst har handlet i butikken given en reference dage f.eks. dags dato."
   ]
  },
  {
   "cell_type": "code",
   "execution_count": 12,
   "metadata": {},
   "outputs": [
    {
     "data": {
      "text/plain": [
       "Timestamp('2011-12-10 12:50:00')"
      ]
     },
     "execution_count": 12,
     "metadata": {},
     "output_type": "execute_result"
    }
   ],
   "source": [
    "ref_date = df_invoices.Date.max() + pd.DateOffset(days=1)\n",
    "ref_date"
   ]
  },
  {
   "cell_type": "markdown",
   "metadata": {},
   "source": [
    "Jeg vælger at udregne antal dage fordi det giver mig en højere \"opløsning\". Derfra kan jeg altid vælge at udregne måneder eller uger."
   ]
  },
  {
   "cell_type": "code",
   "execution_count": 13,
   "metadata": {},
   "outputs": [],
   "source": [
    "df_customers['DaysSinceLastInvoice'] = df_customers.LastInvoiceDate.map(lambda date: (ref_date - date).days)"
   ]
  },
  {
   "cell_type": "code",
   "execution_count": 14,
   "metadata": {},
   "outputs": [
    {
     "data": {
      "text/html": [
       "<div>\n",
       "<style scoped>\n",
       "    .dataframe tbody tr th:only-of-type {\n",
       "        vertical-align: middle;\n",
       "    }\n",
       "\n",
       "    .dataframe tbody tr th {\n",
       "        vertical-align: top;\n",
       "    }\n",
       "\n",
       "    .dataframe thead th {\n",
       "        text-align: right;\n",
       "    }\n",
       "</style>\n",
       "<table border=\"1\" class=\"dataframe\">\n",
       "  <thead>\n",
       "    <tr style=\"text-align: right;\">\n",
       "      <th></th>\n",
       "      <th>count</th>\n",
       "      <th>mean</th>\n",
       "      <th>std</th>\n",
       "      <th>min</th>\n",
       "      <th>25%</th>\n",
       "      <th>50%</th>\n",
       "      <th>75%</th>\n",
       "      <th>max</th>\n",
       "    </tr>\n",
       "  </thead>\n",
       "  <tbody>\n",
       "    <tr>\n",
       "      <th>DaysSinceLastInvoice</th>\n",
       "      <td>4317.0</td>\n",
       "      <td>90.370628</td>\n",
       "      <td>99.157796</td>\n",
       "      <td>1.0</td>\n",
       "      <td>17.0</td>\n",
       "      <td>49.0</td>\n",
       "      <td>138.0</td>\n",
       "      <td>374.0</td>\n",
       "    </tr>\n",
       "  </tbody>\n",
       "</table>\n",
       "</div>"
      ],
      "text/plain": [
       "                       count       mean        std  min   25%   50%    75%  \\\n",
       "DaysSinceLastInvoice  4317.0  90.370628  99.157796  1.0  17.0  49.0  138.0   \n",
       "\n",
       "                        max  \n",
       "DaysSinceLastInvoice  374.0  "
      ]
     },
     "execution_count": 14,
     "metadata": {},
     "output_type": "execute_result"
    }
   ],
   "source": [
    "df_customers[['DaysSinceLastInvoice']].describe().T"
   ]
  },
  {
   "cell_type": "markdown",
   "metadata": {},
   "source": [
    "- Værdierne spænder fra en dag (frisk) til over et år (gammel). \n",
    "- Halvdelen af de observerede kunder er blevet faktureret indenfor 50 dage siden referencedatoen (10. dec 2011).\n",
    "- 75% er faktureret indenfor 138 dage -- ca. 4-5 måneder.\n",
    "- Størstedelen af kunderne er rimelig \"friske\" dvs. de ligger koncentreret i den ene ende af friskheds-skalaen."
   ]
  },
  {
   "cell_type": "markdown",
   "metadata": {},
   "source": [
    "Hvordan ser fordelingen ud?"
   ]
  },
  {
   "cell_type": "code",
   "execution_count": 15,
   "metadata": {},
   "outputs": [
    {
     "data": {
      "image/png": "[encoded data removed]",
      "text/plain": [
       "<Figure size 1008x504 with 2 Axes>"
      ]
     },
     "metadata": {},
     "output_type": "display_data"
    }
   ],
   "source": [
    "axes = draw_box_and_dist_plots(df_customers.DaysSinceLastInvoice, bins=120);\n",
    "axes[0].set_xlabel('')\n",
    "axes[1].set_xlabel('Dage siden sidst faktureringsdato.')\n",
    "axes[1].set_ylabel('Antal kunder');"
   ]
  },
  {
   "cell_type": "markdown",
   "metadata": {},
   "source": [
    "Der er tale om en long-tail fordeling hvor rigtig mange kunder er friske.\n",
    "En mulig forklaring kunne være at Black Friday ligger i november hvor butikker generelt ser en større salgsvolumen. Da nogle af kunderne er grosister kan det tænkes at de handler nogle få måneder op til (og efter) for at fylde deres lagre op."
   ]
  },
  {
   "cell_type": "markdown",
   "metadata": {},
   "source": [
    "Det næste man skal tage stilling til er hvordan man genererer en Recency-score på baggrund af dataene. Man kan udregne en score baseret på intervaller eller fraktiler."
   ]
  },
  {
   "cell_type": "markdown",
   "metadata": {},
   "source": [
    "Udregningsmetoden er i sidste ende afhængig af forretning. Her vælger jeg at udregne en score fra 1 (dårligst) til 5 (bedst) ved at inddele observationerne i 5 fraktiler."
   ]
  },
  {
   "cell_type": "code",
   "execution_count": 16,
   "metadata": {},
   "outputs": [],
   "source": [
    "df_customers['RecencyValue'] = df_customers.DaysSinceLastInvoice"
   ]
  },
  {
   "cell_type": "code",
   "execution_count": 17,
   "metadata": {},
   "outputs": [],
   "source": [
    "df_customers['RecencyScore'] = pd.qcut(df_customers.RecencyValue, q=5, labels=[5, 4, 3, 2, 1]).astype('int32')"
   ]
  },
  {
   "cell_type": "code",
   "execution_count": 18,
   "metadata": {},
   "outputs": [
    {
     "data": {
      "text/html": [
       "<div>\n",
       "<style scoped>\n",
       "    .dataframe tbody tr th:only-of-type {\n",
       "        vertical-align: middle;\n",
       "    }\n",
       "\n",
       "    .dataframe tbody tr th {\n",
       "        vertical-align: top;\n",
       "    }\n",
       "\n",
       "    .dataframe thead tr th {\n",
       "        text-align: left;\n",
       "    }\n",
       "\n",
       "    .dataframe thead tr:last-of-type th {\n",
       "        text-align: right;\n",
       "    }\n",
       "</style>\n",
       "<table border=\"1\" class=\"dataframe\">\n",
       "  <thead>\n",
       "    <tr>\n",
       "      <th></th>\n",
       "      <th colspan=\"8\" halign=\"left\">RecencyValue</th>\n",
       "    </tr>\n",
       "    <tr>\n",
       "      <th></th>\n",
       "      <th>count</th>\n",
       "      <th>mean</th>\n",
       "      <th>std</th>\n",
       "      <th>min</th>\n",
       "      <th>25%</th>\n",
       "      <th>50%</th>\n",
       "      <th>75%</th>\n",
       "      <th>max</th>\n",
       "    </tr>\n",
       "    <tr>\n",
       "      <th>RecencyScore</th>\n",
       "      <th></th>\n",
       "      <th></th>\n",
       "      <th></th>\n",
       "      <th></th>\n",
       "      <th></th>\n",
       "      <th></th>\n",
       "      <th></th>\n",
       "      <th></th>\n",
       "    </tr>\n",
       "  </thead>\n",
       "  <tbody>\n",
       "    <tr>\n",
       "      <th>1</th>\n",
       "      <td>863.0</td>\n",
       "      <td>264.878331</td>\n",
       "      <td>57.831063</td>\n",
       "      <td>175.0</td>\n",
       "      <td>215.0</td>\n",
       "      <td>261.0</td>\n",
       "      <td>310.5</td>\n",
       "      <td>374.0</td>\n",
       "    </tr>\n",
       "    <tr>\n",
       "      <th>2</th>\n",
       "      <td>857.0</td>\n",
       "      <td>111.942824</td>\n",
       "      <td>32.147081</td>\n",
       "      <td>71.0</td>\n",
       "      <td>82.0</td>\n",
       "      <td>107.0</td>\n",
       "      <td>138.0</td>\n",
       "      <td>174.0</td>\n",
       "    </tr>\n",
       "    <tr>\n",
       "      <th>3</th>\n",
       "      <td>860.0</td>\n",
       "      <td>49.088372</td>\n",
       "      <td>11.063647</td>\n",
       "      <td>32.0</td>\n",
       "      <td>39.0</td>\n",
       "      <td>50.0</td>\n",
       "      <td>59.0</td>\n",
       "      <td>70.0</td>\n",
       "    </tr>\n",
       "    <tr>\n",
       "      <th>4</th>\n",
       "      <td>863.0</td>\n",
       "      <td>21.414832</td>\n",
       "      <td>5.554987</td>\n",
       "      <td>12.0</td>\n",
       "      <td>17.0</td>\n",
       "      <td>22.0</td>\n",
       "      <td>26.0</td>\n",
       "      <td>31.0</td>\n",
       "    </tr>\n",
       "    <tr>\n",
       "      <th>5</th>\n",
       "      <td>874.0</td>\n",
       "      <td>5.615561</td>\n",
       "      <td>3.330382</td>\n",
       "      <td>1.0</td>\n",
       "      <td>3.0</td>\n",
       "      <td>5.0</td>\n",
       "      <td>9.0</td>\n",
       "      <td>11.0</td>\n",
       "    </tr>\n",
       "  </tbody>\n",
       "</table>\n",
       "</div>"
      ],
      "text/plain": [
       "             RecencyValue                                                     \\\n",
       "                    count        mean        std    min    25%    50%    75%   \n",
       "RecencyScore                                                                   \n",
       "1                   863.0  264.878331  57.831063  175.0  215.0  261.0  310.5   \n",
       "2                   857.0  111.942824  32.147081   71.0   82.0  107.0  138.0   \n",
       "3                   860.0   49.088372  11.063647   32.0   39.0   50.0   59.0   \n",
       "4                   863.0   21.414832   5.554987   12.0   17.0   22.0   26.0   \n",
       "5                   874.0    5.615561   3.330382    1.0    3.0    5.0    9.0   \n",
       "\n",
       "                     \n",
       "                max  \n",
       "RecencyScore         \n",
       "1             374.0  \n",
       "2             174.0  \n",
       "3              70.0  \n",
       "4              31.0  \n",
       "5              11.0  "
      ]
     },
     "execution_count": 18,
     "metadata": {},
     "output_type": "execute_result"
    }
   ],
   "source": [
    "df_customers.groupby('RecencyScore')[['RecencyValue']].describe()"
   ]
  },
  {
   "cell_type": "markdown",
   "metadata": {},
   "source": [
    "- Den bedste score på 5 bliver tildelt kunder som har handlet indenfor 11 dage før den 10. december 2011. \n",
    "- Kunder som har købt varer mellem ca. 5-6 måneder til over et år siden får den dårligste Recency-score på 1. "
   ]
  },
  {
   "cell_type": "markdown",
   "metadata": {},
   "source": [
    "## Frequency"
   ]
  },
  {
   "cell_type": "markdown",
   "metadata": {},
   "source": [
    "Det næste er Freqency som betegner hyppigheden af ordrer/handler som forretningen modtager fra en kunde."
   ]
  },
  {
   "cell_type": "code",
   "execution_count": 19,
   "metadata": {},
   "outputs": [
    {
     "data": {
      "text/html": [
       "<div>\n",
       "<style scoped>\n",
       "    .dataframe tbody tr th:only-of-type {\n",
       "        vertical-align: middle;\n",
       "    }\n",
       "\n",
       "    .dataframe tbody tr th {\n",
       "        vertical-align: top;\n",
       "    }\n",
       "\n",
       "    .dataframe thead th {\n",
       "        text-align: right;\n",
       "    }\n",
       "</style>\n",
       "<table border=\"1\" class=\"dataframe\">\n",
       "  <thead>\n",
       "    <tr style=\"text-align: right;\">\n",
       "      <th></th>\n",
       "      <th>count</th>\n",
       "      <th>mean</th>\n",
       "      <th>std</th>\n",
       "      <th>min</th>\n",
       "      <th>25%</th>\n",
       "      <th>50%</th>\n",
       "      <th>75%</th>\n",
       "      <th>max</th>\n",
       "    </tr>\n",
       "  </thead>\n",
       "  <tbody>\n",
       "    <tr>\n",
       "      <th>InvoiceCount</th>\n",
       "      <td>4317.0</td>\n",
       "      <td>5.119296</td>\n",
       "      <td>9.389294</td>\n",
       "      <td>1.0</td>\n",
       "      <td>1.0</td>\n",
       "      <td>3.0</td>\n",
       "      <td>6.0</td>\n",
       "      <td>248.0</td>\n",
       "    </tr>\n",
       "  </tbody>\n",
       "</table>\n",
       "</div>"
      ],
      "text/plain": [
       "               count      mean       std  min  25%  50%  75%    max\n",
       "InvoiceCount  4317.0  5.119296  9.389294  1.0  1.0  3.0  6.0  248.0"
      ]
     },
     "execution_count": 19,
     "metadata": {},
     "output_type": "execute_result"
    }
   ],
   "source": [
    "df_customers[['InvoiceCount']].describe().T"
   ]
  },
  {
   "cell_type": "markdown",
   "metadata": {},
   "source": [
    "Medianen er 3 fakturaer og 75% af kunderne har foretaget under 6 bestillinger. Det er tydeligt at fordelingen er ret skæv."
   ]
  },
  {
   "cell_type": "code",
   "execution_count": 20,
   "metadata": {},
   "outputs": [
    {
     "data": {
      "image/png": "[encoded data removed]",
      "text/plain": [
       "<Figure size 1008x504 with 2 Axes>"
      ]
     },
     "metadata": {},
     "output_type": "display_data"
    }
   ],
   "source": [
    "axes = draw_box_and_dist_plots(df_customers.InvoiceCount, bins=80);\n",
    "axes[0].set_xlabel('')\n",
    "axes[1].set_yscale('log')\n",
    "axes[1].yaxis.set_major_formatter(mpl.ticker.StrMethodFormatter('{x:,.0f}'))\n",
    "axes[1].set_xlabel('Antal af faktura')\n",
    "axes[1].set_ylabel('Antal kunder');"
   ]
  },
  {
   "cell_type": "code",
   "execution_count": 21,
   "metadata": {},
   "outputs": [
    {
     "name": "stdout",
     "output_type": "stream",
     "text": [
      "24 ud af 4317 kunder blev faktureret mere end 50 gange.\n"
     ]
    }
   ],
   "source": [
    "count_threshold = 50\n",
    "print('{} ud af {} kunder blev faktureret mere end {} gange.'.format((df_customers.InvoiceCount > count_threshold).sum(), len(df_customers), count_threshold))"
   ]
  },
  {
   "cell_type": "markdown",
   "metadata": {},
   "source": [
    "En lille andel af kunderne har stået et stort antal faktureringer. De afviger meget fra størstedelen af kunderne. Man kan vælge at betragte dem som outliers og fjerne dem. Man kan "
   ]
  },
  {
   "cell_type": "markdown",
   "metadata": {},
   "source": [
    "Step 1: udregn hvor sjælden hver enkel værdi (InvoiceCount) er i forhold resten"
   ]
  },
  {
   "cell_type": "code",
   "execution_count": 22,
   "metadata": {},
   "outputs": [],
   "source": [
    "df_invoice_count_rarity_pct = df_customers.InvoiceCount.value_counts() / len(df_customers) * 100"
   ]
  },
  {
   "cell_type": "markdown",
   "metadata": {},
   "source": [
    "Step 2: find de InvoiceCount-værdier som er større end 0.5% af alle kunder."
   ]
  },
  {
   "cell_type": "code",
   "execution_count": 23,
   "metadata": {},
   "outputs": [],
   "source": [
    "pct_threshold = 0.5\n",
    "above_threshold_counts = list(df_invoice_count_rarity_pct[df_invoice_count_rarity_pct >= pct_threshold].index)"
   ]
  },
  {
   "cell_type": "markdown",
   "metadata": {},
   "source": [
    "Step 3: fjern disse kunder fra kunde-tabellen"
   ]
  },
  {
   "cell_type": "code",
   "execution_count": 24,
   "metadata": {},
   "outputs": [
    {
     "name": "stdout",
     "output_type": "stream",
     "text": [
      "Slettet 191 kunder.\n"
     ]
    }
   ],
   "source": [
    "n_before = len(df_customers)\n",
    "df_customers = df_customers[df_customers.InvoiceCount.isin(above_threshold_counts)]\n",
    "n_after = len(df_customers)\n",
    "print(f'Slettet {n_before - n_after} kunder.')"
   ]
  },
  {
   "cell_type": "markdown",
   "metadata": {},
   "source": [
    "Hvordan ser fordelingen ud nu?"
   ]
  },
  {
   "cell_type": "code",
   "execution_count": 25,
   "metadata": {},
   "outputs": [
    {
     "data": {
      "text/html": [
       "<div>\n",
       "<style scoped>\n",
       "    .dataframe tbody tr th:only-of-type {\n",
       "        vertical-align: middle;\n",
       "    }\n",
       "\n",
       "    .dataframe tbody tr th {\n",
       "        vertical-align: top;\n",
       "    }\n",
       "\n",
       "    .dataframe thead th {\n",
       "        text-align: right;\n",
       "    }\n",
       "</style>\n",
       "<table border=\"1\" class=\"dataframe\">\n",
       "  <thead>\n",
       "    <tr style=\"text-align: right;\">\n",
       "      <th></th>\n",
       "      <th>count</th>\n",
       "      <th>mean</th>\n",
       "      <th>std</th>\n",
       "      <th>min</th>\n",
       "      <th>25%</th>\n",
       "      <th>50%</th>\n",
       "      <th>75%</th>\n",
       "      <th>max</th>\n",
       "    </tr>\n",
       "  </thead>\n",
       "  <tbody>\n",
       "    <tr>\n",
       "      <th>InvoiceCount</th>\n",
       "      <td>4126.0</td>\n",
       "      <td>3.776054</td>\n",
       "      <td>3.449974</td>\n",
       "      <td>1.0</td>\n",
       "      <td>1.0</td>\n",
       "      <td>2.0</td>\n",
       "      <td>5.0</td>\n",
       "      <td>18.0</td>\n",
       "    </tr>\n",
       "  </tbody>\n",
       "</table>\n",
       "</div>"
      ],
      "text/plain": [
       "               count      mean       std  min  25%  50%  75%   max\n",
       "InvoiceCount  4126.0  3.776054  3.449974  1.0  1.0  2.0  5.0  18.0"
      ]
     },
     "execution_count": 25,
     "metadata": {},
     "output_type": "execute_result"
    }
   ],
   "source": [
    "df_customers[['InvoiceCount']].describe().T"
   ]
  },
  {
   "cell_type": "code",
   "execution_count": 26,
   "metadata": {},
   "outputs": [
    {
     "data": {
      "image/png": "[encoded data removed]",
      "text/plain": [
       "<Figure size 1008x504 with 2 Axes>"
      ]
     },
     "metadata": {},
     "output_type": "display_data"
    }
   ],
   "source": [
    "axes = draw_box_and_dist_plots(df_customers.InvoiceCount, bins=20);\n",
    "axes[0].set_xlabel('')\n",
    "axes[1].set_yscale('log')\n",
    "axes[1].yaxis.set_major_formatter(mpl.ticker.StrMethodFormatter('{x:,.0f}'))\n",
    "axes[1].set_xlabel('Antal af faktura')\n",
    "axes[1].set_ylabel('Antal kunder');"
   ]
  },
  {
   "cell_type": "markdown",
   "metadata": {},
   "source": [
    "Intervallet er reduceret. Der er stadigvæk rigtig mange kunder som har kun har handlet en eller to gange i løbet af året. En fraktil-baseret score giver ikke så meget mening. I stedet vil jeg definere inddele InvoiceCount-værdier i fem 5 intervaller:"
   ]
  },
  {
   "cell_type": "code",
   "execution_count": 27,
   "metadata": {},
   "outputs": [],
   "source": [
    "df_customers['FrequencyValue'] = df_customers['InvoiceCount']"
   ]
  },
  {
   "cell_type": "code",
   "execution_count": 28,
   "metadata": {},
   "outputs": [],
   "source": [
    "df_customers['FrequencyScore'] = pd.cut(\n",
    "    df_customers.groupby('FrequencyValue').ngroup(), \n",
    "    bins=5, labels=[1, 2, 3, 4, 5]\n",
    ").astype('int32')"
   ]
  },
  {
   "cell_type": "code",
   "execution_count": 29,
   "metadata": {},
   "outputs": [
    {
     "data": {
      "text/html": [
       "<div>\n",
       "<style scoped>\n",
       "    .dataframe tbody tr th:only-of-type {\n",
       "        vertical-align: middle;\n",
       "    }\n",
       "\n",
       "    .dataframe tbody tr th {\n",
       "        vertical-align: top;\n",
       "    }\n",
       "\n",
       "    .dataframe thead tr th {\n",
       "        text-align: left;\n",
       "    }\n",
       "\n",
       "    .dataframe thead tr:last-of-type th {\n",
       "        text-align: right;\n",
       "    }\n",
       "</style>\n",
       "<table border=\"1\" class=\"dataframe\">\n",
       "  <thead>\n",
       "    <tr>\n",
       "      <th></th>\n",
       "      <th colspan=\"8\" halign=\"left\">FrequencyValue</th>\n",
       "    </tr>\n",
       "    <tr>\n",
       "      <th></th>\n",
       "      <th>count</th>\n",
       "      <th>mean</th>\n",
       "      <th>std</th>\n",
       "      <th>min</th>\n",
       "      <th>25%</th>\n",
       "      <th>50%</th>\n",
       "      <th>75%</th>\n",
       "      <th>max</th>\n",
       "    </tr>\n",
       "    <tr>\n",
       "      <th>FrequencyScore</th>\n",
       "      <th></th>\n",
       "      <th></th>\n",
       "      <th></th>\n",
       "      <th></th>\n",
       "      <th></th>\n",
       "      <th></th>\n",
       "      <th></th>\n",
       "      <th></th>\n",
       "    </tr>\n",
       "  </thead>\n",
       "  <tbody>\n",
       "    <tr>\n",
       "      <th>1</th>\n",
       "      <td>2944.0</td>\n",
       "      <td>1.985734</td>\n",
       "      <td>1.054963</td>\n",
       "      <td>1.0</td>\n",
       "      <td>1.0</td>\n",
       "      <td>2.0</td>\n",
       "      <td>3.0</td>\n",
       "      <td>4.0</td>\n",
       "    </tr>\n",
       "    <tr>\n",
       "      <th>2</th>\n",
       "      <td>639.0</td>\n",
       "      <td>5.796557</td>\n",
       "      <td>0.808994</td>\n",
       "      <td>5.0</td>\n",
       "      <td>5.0</td>\n",
       "      <td>6.0</td>\n",
       "      <td>6.0</td>\n",
       "      <td>7.0</td>\n",
       "    </tr>\n",
       "    <tr>\n",
       "      <th>3</th>\n",
       "      <td>275.0</td>\n",
       "      <td>8.858182</td>\n",
       "      <td>0.831561</td>\n",
       "      <td>8.0</td>\n",
       "      <td>8.0</td>\n",
       "      <td>9.0</td>\n",
       "      <td>10.0</td>\n",
       "      <td>10.0</td>\n",
       "    </tr>\n",
       "    <tr>\n",
       "      <th>4</th>\n",
       "      <td>151.0</td>\n",
       "      <td>11.841060</td>\n",
       "      <td>0.800772</td>\n",
       "      <td>11.0</td>\n",
       "      <td>11.0</td>\n",
       "      <td>12.0</td>\n",
       "      <td>12.5</td>\n",
       "      <td>13.0</td>\n",
       "    </tr>\n",
       "    <tr>\n",
       "      <th>5</th>\n",
       "      <td>117.0</td>\n",
       "      <td>15.435897</td>\n",
       "      <td>1.446665</td>\n",
       "      <td>14.0</td>\n",
       "      <td>14.0</td>\n",
       "      <td>15.0</td>\n",
       "      <td>16.0</td>\n",
       "      <td>18.0</td>\n",
       "    </tr>\n",
       "  </tbody>\n",
       "</table>\n",
       "</div>"
      ],
      "text/plain": [
       "               FrequencyValue                                               \\\n",
       "                        count       mean       std   min   25%   50%   75%   \n",
       "FrequencyScore                                                               \n",
       "1                      2944.0   1.985734  1.054963   1.0   1.0   2.0   3.0   \n",
       "2                       639.0   5.796557  0.808994   5.0   5.0   6.0   6.0   \n",
       "3                       275.0   8.858182  0.831561   8.0   8.0   9.0  10.0   \n",
       "4                       151.0  11.841060  0.800772  11.0  11.0  12.0  12.5   \n",
       "5                       117.0  15.435897  1.446665  14.0  14.0  15.0  16.0   \n",
       "\n",
       "                      \n",
       "                 max  \n",
       "FrequencyScore        \n",
       "1                4.0  \n",
       "2                7.0  \n",
       "3               10.0  \n",
       "4               13.0  \n",
       "5               18.0  "
      ]
     },
     "execution_count": 29,
     "metadata": {},
     "output_type": "execute_result"
    }
   ],
   "source": [
    "df_customers.groupby('FrequencyScore')[['FrequencyValue']].describe()"
   ]
  },
  {
   "cell_type": "markdown",
   "metadata": {},
   "source": [
    "- Bedste score på 5: kunder som har handlet 14-18 gange i løbet af hele perioden.\n",
    "- Dårligst score på 1: kunder med ordrer mellem 1 og 4 i løbet af hele perioden."
   ]
  },
  {
   "cell_type": "markdown",
   "metadata": {},
   "source": [
    "## Monetary"
   ]
  },
  {
   "cell_type": "markdown",
   "metadata": {},
   "source": [
    "Det sidste parameter Monetary beskriver hvor stor er den samlede omsætning per kunde."
   ]
  },
  {
   "cell_type": "code",
   "execution_count": 30,
   "metadata": {},
   "outputs": [
    {
     "data": {
      "text/html": [
       "<div>\n",
       "<style scoped>\n",
       "    .dataframe tbody tr th:only-of-type {\n",
       "        vertical-align: middle;\n",
       "    }\n",
       "\n",
       "    .dataframe tbody tr th {\n",
       "        vertical-align: top;\n",
       "    }\n",
       "\n",
       "    .dataframe thead th {\n",
       "        text-align: right;\n",
       "    }\n",
       "</style>\n",
       "<table border=\"1\" class=\"dataframe\">\n",
       "  <thead>\n",
       "    <tr style=\"text-align: right;\">\n",
       "      <th></th>\n",
       "      <th>count</th>\n",
       "      <th>mean</th>\n",
       "      <th>std</th>\n",
       "      <th>min</th>\n",
       "      <th>25%</th>\n",
       "      <th>50%</th>\n",
       "      <th>75%</th>\n",
       "      <th>max</th>\n",
       "    </tr>\n",
       "  </thead>\n",
       "  <tbody>\n",
       "    <tr>\n",
       "      <th>Revenue</th>\n",
       "      <td>4126.0</td>\n",
       "      <td>1174.886525</td>\n",
       "      <td>1812.798611</td>\n",
       "      <td>2.9</td>\n",
       "      <td>291.91</td>\n",
       "      <td>621.445</td>\n",
       "      <td>1419.22</td>\n",
       "      <td>50415.49</td>\n",
       "    </tr>\n",
       "  </tbody>\n",
       "</table>\n",
       "</div>"
      ],
      "text/plain": [
       "          count         mean          std  min     25%      50%      75%  \\\n",
       "Revenue  4126.0  1174.886525  1812.798611  2.9  291.91  621.445  1419.22   \n",
       "\n",
       "              max  \n",
       "Revenue  50415.49  "
      ]
     },
     "execution_count": 30,
     "metadata": {},
     "output_type": "execute_result"
    }
   ],
   "source": [
    "df_customers[['Revenue']].describe().T"
   ]
  },
  {
   "cell_type": "markdown",
   "metadata": {},
   "source": [
    "Beløb varierer fra £2,9 til £50.415. Hvordan ser fordelingen ud?"
   ]
  },
  {
   "cell_type": "code",
   "execution_count": 31,
   "metadata": {},
   "outputs": [
    {
     "data": {
      "image/png": "[encoded data removed]",
      "text/plain": [
       "<Figure size 1008x504 with 2 Axes>"
      ]
     },
     "metadata": {},
     "output_type": "display_data"
    }
   ],
   "source": [
    "axes = draw_box_and_dist_plots(df_customers.Revenue, bins=50);\n",
    "axes[0].set_xlabel('')\n",
    "axes[1].set_yscale('log')\n",
    "axes[1].yaxis.set_major_formatter(mpl.ticker.StrMethodFormatter('{x:,.0f}'))\n",
    "axes[1].set_xlabel('Samlet omsætning i pund')\n",
    "axes[1].set_ylabel('Antal kunder');"
   ]
  },
  {
   "cell_type": "markdown",
   "metadata": {},
   "source": [
    "Igen ser vi outliers som man kan vælge at fjerne. I det her tilfælde vil jeg beholde dem og udregne en score vha. fraktiler:"
   ]
  },
  {
   "cell_type": "code",
   "execution_count": 32,
   "metadata": {},
   "outputs": [],
   "source": [
    "df_customers['MonetaryValue'] = df_customers['Revenue']"
   ]
  },
  {
   "cell_type": "code",
   "execution_count": 33,
   "metadata": {},
   "outputs": [],
   "source": [
    "df_customers['MonetaryScore'] = pd.qcut(df_customers.MonetaryValue, q=5, labels=[1, 2, 3, 4, 5]).astype(int)"
   ]
  },
  {
   "cell_type": "code",
   "execution_count": 34,
   "metadata": {},
   "outputs": [
    {
     "data": {
      "text/html": [
       "<div>\n",
       "<style scoped>\n",
       "    .dataframe tbody tr th:only-of-type {\n",
       "        vertical-align: middle;\n",
       "    }\n",
       "\n",
       "    .dataframe tbody tr th {\n",
       "        vertical-align: top;\n",
       "    }\n",
       "\n",
       "    .dataframe thead tr th {\n",
       "        text-align: left;\n",
       "    }\n",
       "\n",
       "    .dataframe thead tr:last-of-type th {\n",
       "        text-align: right;\n",
       "    }\n",
       "</style>\n",
       "<table border=\"1\" class=\"dataframe\">\n",
       "  <thead>\n",
       "    <tr>\n",
       "      <th></th>\n",
       "      <th colspan=\"8\" halign=\"left\">MonetaryValue</th>\n",
       "    </tr>\n",
       "    <tr>\n",
       "      <th></th>\n",
       "      <th>count</th>\n",
       "      <th>mean</th>\n",
       "      <th>std</th>\n",
       "      <th>min</th>\n",
       "      <th>25%</th>\n",
       "      <th>50%</th>\n",
       "      <th>75%</th>\n",
       "      <th>max</th>\n",
       "    </tr>\n",
       "    <tr>\n",
       "      <th>MonetaryScore</th>\n",
       "      <th></th>\n",
       "      <th></th>\n",
       "      <th></th>\n",
       "      <th></th>\n",
       "      <th></th>\n",
       "      <th></th>\n",
       "      <th></th>\n",
       "      <th></th>\n",
       "    </tr>\n",
       "  </thead>\n",
       "  <tbody>\n",
       "    <tr>\n",
       "      <th>1</th>\n",
       "      <td>826.0</td>\n",
       "      <td>147.855642</td>\n",
       "      <td>53.411922</td>\n",
       "      <td>2.90</td>\n",
       "      <td>110.60</td>\n",
       "      <td>152.475</td>\n",
       "      <td>192.435</td>\n",
       "      <td>236.78</td>\n",
       "    </tr>\n",
       "    <tr>\n",
       "      <th>2</th>\n",
       "      <td>825.0</td>\n",
       "      <td>337.609759</td>\n",
       "      <td>58.453673</td>\n",
       "      <td>237.07</td>\n",
       "      <td>292.00</td>\n",
       "      <td>333.560</td>\n",
       "      <td>383.700</td>\n",
       "      <td>452.85</td>\n",
       "    </tr>\n",
       "    <tr>\n",
       "      <th>3</th>\n",
       "      <td>825.0</td>\n",
       "      <td>627.146148</td>\n",
       "      <td>106.500526</td>\n",
       "      <td>452.89</td>\n",
       "      <td>537.83</td>\n",
       "      <td>621.660</td>\n",
       "      <td>709.710</td>\n",
       "      <td>841.52</td>\n",
       "    </tr>\n",
       "    <tr>\n",
       "      <th>4</th>\n",
       "      <td>825.0</td>\n",
       "      <td>1217.546339</td>\n",
       "      <td>254.413634</td>\n",
       "      <td>841.64</td>\n",
       "      <td>999.70</td>\n",
       "      <td>1174.580</td>\n",
       "      <td>1419.540</td>\n",
       "      <td>1740.48</td>\n",
       "    </tr>\n",
       "    <tr>\n",
       "      <th>5</th>\n",
       "      <td>825.0</td>\n",
       "      <td>3545.519625</td>\n",
       "      <td>2946.290886</td>\n",
       "      <td>1740.60</td>\n",
       "      <td>2140.22</td>\n",
       "      <td>2757.070</td>\n",
       "      <td>3844.220</td>\n",
       "      <td>50415.49</td>\n",
       "    </tr>\n",
       "  </tbody>\n",
       "</table>\n",
       "</div>"
      ],
      "text/plain": [
       "              MonetaryValue                                              \\\n",
       "                      count         mean          std      min      25%   \n",
       "MonetaryScore                                                             \n",
       "1                     826.0   147.855642    53.411922     2.90   110.60   \n",
       "2                     825.0   337.609759    58.453673   237.07   292.00   \n",
       "3                     825.0   627.146148   106.500526   452.89   537.83   \n",
       "4                     825.0  1217.546339   254.413634   841.64   999.70   \n",
       "5                     825.0  3545.519625  2946.290886  1740.60  2140.22   \n",
       "\n",
       "                                             \n",
       "                    50%       75%       max  \n",
       "MonetaryScore                                \n",
       "1               152.475   192.435    236.78  \n",
       "2               333.560   383.700    452.85  \n",
       "3               621.660   709.710    841.52  \n",
       "4              1174.580  1419.540   1740.48  \n",
       "5              2757.070  3844.220  50415.49  "
      ]
     },
     "execution_count": 34,
     "metadata": {},
     "output_type": "execute_result"
    }
   ],
   "source": [
    "df_customers.groupby('MonetaryScore')[['MonetaryValue']].describe()"
   ]
  },
  {
   "cell_type": "markdown",
   "metadata": {},
   "source": [
    "- De bedste kunder er dem som butikken har faktureret mellem 1.740 til 50.415 pund.\n",
    "- Bundkarakter på kunder som sammenlagt har købt mellem  2 og 236 pund."
   ]
  },
  {
   "cell_type": "markdown",
   "metadata": {},
   "source": [
    "## RFM samlet score"
   ]
  },
  {
   "cell_type": "markdown",
   "metadata": {},
   "source": [
    "Den samlede RFM-score kan \"beregnes\" ved at sammenkæde de enkelte R, F og M scores i én:"
   ]
  },
  {
   "cell_type": "code",
   "execution_count": 35,
   "metadata": {},
   "outputs": [],
   "source": [
    "df_customers['RFMScore'] = (\n",
    "      df_customers.RecencyScore.astype('str')\n",
    "    + df_customers.FrequencyScore.astype('str')\n",
    "    + df_customers.MonetaryScore.astype('str')\n",
    ")"
   ]
  },
  {
   "cell_type": "code",
   "execution_count": 36,
   "metadata": {},
   "outputs": [
    {
     "data": {
      "text/html": [
       "<div>\n",
       "<style scoped>\n",
       "    .dataframe tbody tr th:only-of-type {\n",
       "        vertical-align: middle;\n",
       "    }\n",
       "\n",
       "    .dataframe tbody tr th {\n",
       "        vertical-align: top;\n",
       "    }\n",
       "\n",
       "    .dataframe thead th {\n",
       "        text-align: right;\n",
       "    }\n",
       "</style>\n",
       "<table border=\"1\" class=\"dataframe\">\n",
       "  <thead>\n",
       "    <tr style=\"text-align: right;\">\n",
       "      <th></th>\n",
       "      <th>RFMScore</th>\n",
       "      <th>CustomerCount</th>\n",
       "    </tr>\n",
       "  </thead>\n",
       "  <tbody>\n",
       "    <tr>\n",
       "      <th>25</th>\n",
       "      <td>555</td>\n",
       "      <td>61</td>\n",
       "    </tr>\n",
       "    <tr>\n",
       "      <th>69</th>\n",
       "      <td>554</td>\n",
       "      <td>2</td>\n",
       "    </tr>\n",
       "    <tr>\n",
       "      <th>23</th>\n",
       "      <td>545</td>\n",
       "      <td>62</td>\n",
       "    </tr>\n",
       "    <tr>\n",
       "      <th>51</th>\n",
       "      <td>544</td>\n",
       "      <td>9</td>\n",
       "    </tr>\n",
       "    <tr>\n",
       "      <th>17</th>\n",
       "      <td>535</td>\n",
       "      <td>79</td>\n",
       "    </tr>\n",
       "    <tr>\n",
       "      <th>...</th>\n",
       "      <td>...</td>\n",
       "      <td>...</td>\n",
       "    </tr>\n",
       "    <tr>\n",
       "      <th>49</th>\n",
       "      <td>115</td>\n",
       "      <td>15</td>\n",
       "    </tr>\n",
       "    <tr>\n",
       "      <th>26</th>\n",
       "      <td>114</td>\n",
       "      <td>59</td>\n",
       "    </tr>\n",
       "    <tr>\n",
       "      <th>9</th>\n",
       "      <td>113</td>\n",
       "      <td>134</td>\n",
       "    </tr>\n",
       "    <tr>\n",
       "      <th>1</th>\n",
       "      <td>112</td>\n",
       "      <td>263</td>\n",
       "    </tr>\n",
       "    <tr>\n",
       "      <th>0</th>\n",
       "      <td>111</td>\n",
       "      <td>352</td>\n",
       "    </tr>\n",
       "  </tbody>\n",
       "</table>\n",
       "<p>82 rows × 2 columns</p>\n",
       "</div>"
      ],
      "text/plain": [
       "   RFMScore  CustomerCount\n",
       "25      555             61\n",
       "69      554              2\n",
       "23      545             62\n",
       "51      544              9\n",
       "17      535             79\n",
       "..      ...            ...\n",
       "49      115             15\n",
       "26      114             59\n",
       "9       113            134\n",
       "1       112            263\n",
       "0       111            352\n",
       "\n",
       "[82 rows x 2 columns]"
      ]
     },
     "execution_count": 36,
     "metadata": {},
     "output_type": "execute_result"
    }
   ],
   "source": [
    "(df_customers['RFMScore']\n",
    "   .value_counts()\n",
    "   .reset_index()\n",
    "   .rename(columns={'index': 'RFMScore', 'RFMScore': 'CustomerCount'})\n",
    "   .sort_values('RFMScore', ascending=False)\n",
    ")"
   ]
  },
  {
   "cell_type": "markdown",
   "metadata": {},
   "source": [
    "Ved at konkatenere de enkelte scores får vi 82 forskellige værdier. Der er 61 kunder som har fået top-score på 555 og den dårligste score er givet til 352 kunder. \n",
    "\n",
    "En måde at segmentere kunderne på er at inddele dem i prædefinerede navngivne grupper udfra de enkelte score. Her er et eksempel på en inddeling (tabel lånt af [R-Bloggers](https://www.r-bloggers.com/customer-segmentation-using-rfm-analysis/)).\n"
   ]
  },
  {
   "cell_type": "markdown",
   "metadata": {},
   "source": [
    "<img src=\"figures/rfm-segments-table.png\" width=\"700\" title=\"RFM segment tabel fra R Bloggers\" />\n",
    "\n",
    "\n"
   ]
  },
  {
   "cell_type": "markdown",
   "metadata": {},
   "source": [
    "Definer tabellen:"
   ]
  },
  {
   "cell_type": "code",
   "execution_count": 37,
   "metadata": {},
   "outputs": [],
   "source": [
    "segment_table = {\n",
    "  'Champions': [(4, 5), (4, 5), (4, 5)],\n",
    "  'Loyal Customers': [(2, 4), (3, 4), (4, 5)],\n",
    "  'Potential Loyalist': [(3, 5), (1, 3), (1, 3)],\n",
    "  'New Customers': [(4, 5), (1, 2), (1, 2)],\n",
    "  'Promising': [(3, 4), (1, 2), (1, 2)],   \n",
    "  'Need Attention': [(3, 4), (3, 4), (3, 4)],\n",
    "  'About To Sleep': [(2, 3), (1, 3), (1, 3)],\n",
    "  'At Risk': [(1, 3), (2, 5), (2, 5)],\n",
    "  \"Can't Lose Them\": [(1, 2), (4, 5), (4, 5)],\n",
    "  'Hibernating': [(2, 3), (2, 3), (2, 3)],\n",
    "  'Lost': [(1, 2), (1, 2), (1, 2)]\n",
    "}"
   ]
  },
  {
   "cell_type": "markdown",
   "metadata": {},
   "source": [
    "Genererer kombinationerne:"
   ]
  },
  {
   "cell_type": "code",
   "execution_count": 38,
   "metadata": {},
   "outputs": [],
   "source": [
    "score_segment_map = dict()\n",
    "for segment_name, ranges in segment_table.items():\n",
    "    r_range, f_range, m_range = [(r[0], r[1]+1) for r in ranges]\n",
    "    for i in range(*r_range):\n",
    "        for j in range(*f_range):\n",
    "            for k in range(*m_range):\n",
    "                score_segment_map[f'{i}{j}{k}'] = segment_name"
   ]
  },
  {
   "cell_type": "markdown",
   "metadata": {},
   "source": [
    "Tildel segmentet til hver kunde:"
   ]
  },
  {
   "cell_type": "code",
   "execution_count": 39,
   "metadata": {},
   "outputs": [],
   "source": [
    "df_customers['RFMSegment'] = df_customers.RFMScore.map(lambda v: score_segment_map[v] if v in score_segment_map else 'None')"
   ]
  },
  {
   "cell_type": "code",
   "execution_count": 40,
   "metadata": {},
   "outputs": [
    {
     "data": {
      "image/png": "[encoded data removed]",
      "text/plain": [
       "<Figure size 1008x504 with 1 Axes>"
      ]
     },
     "metadata": {},
     "output_type": "display_data"
    }
   ],
   "source": [
    "fig, ax = plt.subplots(figsize=(14, 7))\n",
    "sns.countplot(df_customers.RFMSegment, ax=ax)\n",
    "ax.set_ylabel('Antal kunder')\n",
    "ax.set_xlabel('RFM Segment')\n",
    "ax.xaxis.set_tick_params(rotation=90)\n",
    "ax.set_title('Antal kunder per RFM segment');"
   ]
  },
  {
   "cell_type": "markdown",
   "metadata": {},
   "source": [
    "Det ser lovende ud men der er en del kunder under None-segmentet. Sandsynligvis skyldes det at bestemte kombinationer som er i observationerne mangler i RFM-tabellen."
   ]
  },
  {
   "cell_type": "markdown",
   "metadata": {},
   "source": [
    "En alternative metode er at kombinere Frequency og Monetary fordi de samlet set udtrykker hvor meget en kunde køber (se evt. [Putler](https://www.putler.com/rfm-analysis/)).\n",
    "Jeg bruger gennemsnittet af de to scores."
   ]
  },
  {
   "cell_type": "code",
   "execution_count": 41,
   "metadata": {},
   "outputs": [],
   "source": [
    "df_customers['FMScore'] = np.round((df_customers.FrequencyScore + df_customers.MonetaryScore) / 2)\n",
    "df_customers['FMScore'] = df_customers.FMScore.astype('int32')"
   ]
  },
  {
   "cell_type": "code",
   "execution_count": 42,
   "metadata": {},
   "outputs": [],
   "source": [
    "df_customers['RFMScoreV2'] = (\n",
    "      df_customers.RecencyScore.astype('str')\n",
    "    + df_customers.FMScore.astype('str')\n",
    ")"
   ]
  },
  {
   "cell_type": "code",
   "execution_count": 43,
   "metadata": {},
   "outputs": [],
   "source": [
    "rfm_segment_table_v2 = {\n",
    "  'Champions': [(4, 5), (4, 5)],\n",
    "  'Loyal Customers': [(2, 5), (3, 5)],\n",
    "  'Potential Loyalist': [(3, 5), (1, 3)],\n",
    "  'New Customers': [(4, 5), (1, 2)],\n",
    "  'Promising': [(3, 4), (1, 2)],   \n",
    "  'Need Attention': [(2, 3), (2, 3)],\n",
    "  'About To Sleep': [(2, 3), (1, 3)],\n",
    "  'At Risk': [(1, 3), (2, 5)],\n",
    "  \"Can't Lose Them\": [(1, 2), (4, 5)],\n",
    "  'Hibernating': [(1, 2), (1, 2)],\n",
    "  'Lost': [(1, 3), (1, 3)]\n",
    "}\n",
    "\n",
    "score_segment_v2_map = dict()\n",
    "for segment_name, ranges in rfm_segment_table_v2.items():\n",
    "    r_range, fm_range = [(r[0], r[1]+1) for r in ranges]\n",
    "    for i in range(*r_range):\n",
    "        for j in range(*fm_range):\n",
    "            score_segment_v2_map[f'{i}{j}'] = segment_name\n",
    "\n",
    "df_customers['RFMSegmentV2'] = df_customers.RFMScoreV2.map(lambda v: score_segment_v2_map[v])"
   ]
  },
  {
   "cell_type": "code",
   "execution_count": 44,
   "metadata": {},
   "outputs": [
    {
     "data": {
      "image/png": "[encoded data removed]",
      "text/plain": [
       "<Figure size 720x432 with 1 Axes>"
      ]
     },
     "metadata": {},
     "output_type": "display_data"
    }
   ],
   "source": [
    "fig, ax = plt.subplots(figsize=(10, 6))\n",
    "\n",
    "df_plot_data = (\n",
    "    df_customers[['LastInvoiceDate', 'RFMSegmentV2']]\n",
    "        .groupby('RFMSegmentV2')\n",
    "        .count()\n",
    "        .rename(columns={'LastInvoiceDate':'CustomerCount'})\n",
    "        .sort_values('CustomerCount', ascending=False)\n",
    ")\n",
    "df_plot_data.plot(kind='bar', ax=ax)\n",
    "\n",
    "total_count = df_plot_data['CustomerCount'].sum()\n",
    "pct_vals = list(df_plot_data['CustomerCount'] / total_count)\n",
    "for i, p in enumerate(ax.patches):\n",
    "    width, height = p.get_width(), p.get_height()\n",
    "    x, y = p.get_xy() \n",
    "    ax.annotate(f'{pct_vals[i]:.0%}', (x, y + height + 0.01))\n",
    "\n",
    "ax.set_xlabel('')\n",
    "ax.set_ylabel('Antal kunder')\n",
    "ax.set_ylim([0, 3000])\n",
    "ax.yaxis.set_major_formatter(mpl.ticker.StrMethodFormatter('{x:,.0f}'))\n",
    "ax.legend(['Antal kunder'])\n",
    "\n",
    "ax.set_title('Antallet af kunder per segment.')\n",
    "fig.tight_layout();"
   ]
  },
  {
   "cell_type": "markdown",
   "metadata": {},
   "source": [
    "**Lost** er den kundegruppe med de lavest scores. \n",
    "- Da de udgør over halvdelen af hele kunde-portfolio, kan det muligvis betale sig at forstå dem bedre.\n",
    "- Måske er de engangskunder som handler rundt i forskellige webshops fordi de er pris-sensitive.\n",
    "- Hvis dette segment ikke var så stor, kunne man overveje om det kan svare sig at bruge mere tid på dem. \n",
    "\n",
    "\n",
    "**Loyal Customers** og **Potential Loyalist** kundesegmentet har RFM-score i den mellem-høje ende.\n",
    " - Potential Loyalist: har handlet i nyere tid end den loyale kundegruppe men bruger ikke så mange penge.\n",
    " - De handler ofte og bruger relativ mange penge på forretningen.\n",
    " - Værd at kigge på hvilke produkter de køber for at blive klog på deres behov.\n",
    " - Nogle af disse kunder kan måske lokkes til at lave produkt-reviews. \n",
    " - Kan muligvis være interesseret i at købe dyrere varer.\n",
    " \n",
    "\n",
    "**Promising** og **New Customers** har mellem til høj Recency-score men lav FM-score\n",
    " - De har handlet for kort tid siden, men har ikke handlet så ofte og/eller har ikke brugt store summer.\n",
    " - Man kan prøve at påvirke dem så de får et godt indtryk af webshoppen. Man kan sende velkomst-tilbud, gratis vareprøver mm.\n",
    "\n",
    "\n",
    "**Can't Lose Them** og **At Risk** har lav-mellem R-score men høj FM-score\n",
    " - Det er noget tid siden kunderne i denne gruppe har købt noget i forhold til de andre kunder, men har tidligere handlet flere gange og brugt mange penge.\n",
    " - Undersøg hvad man kan gøre for at få dem til at handle noget oftere. Spørg om deres behov via et spørgeskemaundersøgelse.\n",
    "\n",
    "  \n"
   ]
  }
 ],
 "metadata": {
  "kernelspec": {
   "display_name": "Python 3",
   "language": "python",
   "name": "python3"
  },
  "language_info": {
   "codemirror_mode": {
    "name": "ipython",
    "version": 3
   },
   "file_extension": ".py",
   "mimetype": "text/x-python",
   "name": "python",
   "nbconvert_exporter": "python",
   "pygments_lexer": "ipython3",
   "version": "3.8.2"
  }
 },
 "nbformat": 4,
 "nbformat_minor": 4
}
